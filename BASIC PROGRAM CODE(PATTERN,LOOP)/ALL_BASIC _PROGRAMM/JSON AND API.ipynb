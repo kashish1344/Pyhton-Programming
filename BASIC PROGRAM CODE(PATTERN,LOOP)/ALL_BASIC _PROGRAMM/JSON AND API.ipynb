{
 "cells": [
  {
   "cell_type": "code",
   "execution_count": 14,
   "id": "c6ac6f58",
   "metadata": {},
   "outputs": [
    {
     "name": "stdout",
     "output_type": "stream",
     "text": [
      "{'an': '0', 'ap': '1', 'ar': '0', 'as': '0', 'br': '0', 'ch': '0', 'ct': '0', 'date': '14-Mar-20', 'dateymd': '2020-03-14', 'dd': '0', 'dl': '7', 'dn': '0', 'ga': '0', 'gj': '0', 'hp': '0', 'hr': '14', 'jh': '0', 'jk': '2', 'ka': '6', 'kl': '19', 'la': '0', 'ld': '0', 'mh': '14', 'ml': '0', 'mn': '0', 'mp': '0', 'mz': '0', 'nl': '0', 'or': '0', 'pb': '1', 'py': '0', 'rj': '3', 'sk': '0', 'status': 'Confirmed', 'tg': '1', 'tn': '1', 'tr': '0', 'tt': '81', 'un': '0', 'up': '12', 'ut': '0', 'wb': '0'}\n"
     ]
    }
   ],
   "source": [
    "import urllib.request as url\n",
    "import json\n",
    "res= url.urlopen('https://api.covid19india.org/states_daily.json')\n",
    "data= json.load(res)\n",
    "states=data[\"states_daily\"]\n",
    "print(states[0])"
   ]
  },
  {
   "cell_type": "code",
   "execution_count": 15,
   "id": "5c7cc018",
   "metadata": {},
   "outputs": [
    {
     "name": "stdout",
     "output_type": "stream",
     "text": [
      "{'an': '1', 'ap': '37', 'ar': '0', 'as': '14', 'br': '77', 'ch': '3', 'ct': '218', 'date': '24-Apr-21', 'dateymd': '2021-04-24', 'dd': '0', 'dl': '357', 'dn': '0', 'ga': '17', 'gj': '152', 'hp': '24', 'hr': '60', 'jh': '110', 'jk': '15', 'ka': '208', 'kl': '25', 'la': '1', 'ld': '0', 'mh': '676', 'ml': '1', 'mn': '2', 'mp': '104', 'mz': '0', 'nl': '1', 'or': '8', 'pb': '92', 'py': '9', 'rj': '74', 'sk': '0', 'status': 'Deceased', 'tg': '33', 'tn': '80', 'tr': '0', 'tt': '2761', 'un': '0', 'up': '222', 'ut': '81', 'wb': '59'}\n"
     ]
    }
   ],
   "source": [
    "import urllib.request as url\n",
    "import json\n",
    "res= url.urlopen('https://api.covid19india.org/states_daily.json')\n",
    "data= json.load(res)\n",
    "states=data[\"states_daily\"]\n",
    "print(states[-1])"
   ]
  },
  {
   "cell_type": "code",
   "execution_count": 2,
   "id": "5b276ca9",
   "metadata": {},
   "outputs": [
    {
     "name": "stdout",
     "output_type": "stream",
     "text": [
      "India Total Confirmed Cases Till Date:  21070244\n",
      "India Total Recovered Cases Till Date:  17269037\n",
      "India Total Deceased Cases Till Date:  230155\n"
     ]
    }
   ],
   "source": [
    "import urllib.request as url\n",
    "import json\n",
    "res= url.urlopen('https://api.covid19india.org/states_daily.json')\n",
    "data= json.load(res)\n",
    "states=data[\"states_daily\"]\n",
    "\n",
    "conf_cases=[]\n",
    "for i in range(len(states)):\n",
    "    if states[i]['status'] == 'Confirmed':\n",
    "        conf_cases.append(states[i])\n",
    "\n",
    "recv_cases=[]\n",
    "for i in range(len(states)):\n",
    "    if states[i]['status'] == 'Recovered':\n",
    "        recv_cases.append(states[i])\n",
    "        \n",
    "dece_cases=[]\n",
    "for i in range(len(states)):\n",
    "    if states[i]['status'] == 'Deceased':\n",
    "        dece_cases.append(states[i])\n",
    "        \n",
    "sum = 0\n",
    "for i in range(len(conf_cases)):\n",
    "    sum+=int(conf_cases[i]['tt'])\n",
    "print(\"India Total Confirmed Cases Till Date: \",sum)\n",
    "    \n",
    "sum = 0\n",
    "for i in range(len(recv_cases)):\n",
    "    sum+=int(recv_cases[i]['tt'])\n",
    "print(\"India Total Recovered Cases Till Date: \",sum)\n",
    "    \n",
    "sum = 0\n",
    "for i in range(len(dece_cases)):\n",
    "    sum+=int(dece_cases[i]['tt'])\n",
    "    \n",
    "print(\"India Total Deceased Cases Till Date: \",sum)\n",
    "\n",
    "        "
   ]
  },
  {
   "cell_type": "code",
   "execution_count": 22,
   "id": "9e480151",
   "metadata": {},
   "outputs": [
    {
     "name": "stdout",
     "output_type": "stream",
     "text": [
      "Delhi Total Confirmed Cases Till Date:  1027715\n",
      "Delhi Total Recovered Cases Till Date:  918875\n",
      "Delhi Total Deceased Cases Till Date:  14248\n"
     ]
    }
   ],
   "source": [
    "import urllib.request as url\n",
    "import json\n",
    "res= url.urlopen('https://api.covid19india.org/states_daily.json')\n",
    "data= json.load(res)\n",
    "states=data[\"states_daily\"]\n",
    "state='dl'\n",
    "\n",
    "conf_cases=[]\n",
    "for i in range(len(states)):\n",
    "    if states[i]['status'] == 'Confirmed':\n",
    "        conf_cases.append(states[i])\n",
    "\n",
    "recv_cases=[]\n",
    "for i in range(len(states)):\n",
    "    if states[i]['status'] == 'Recovered':\n",
    "        recv_cases.append(states[i])\n",
    "        \n",
    "dece_cases=[]\n",
    "for i in range(len(states)):\n",
    "    if states[i]['status'] == 'Deceased':\n",
    "        dece_cases.append(states[i])\n",
    "        \n",
    "sum = 0\n",
    "for i in range(len(conf_cases)):\n",
    "    sum+=int(conf_cases[i]['dl'])\n",
    "print(\"Delhi Total Confirmed Cases Till Date: \",sum)\n",
    "    \n",
    "sum = 0\n",
    "for i in range(len(recv_cases)):\n",
    "    sum+=int(recv_cases[i]['dl'])\n",
    "print(\"Delhi Total Recovered Cases Till Date: \",sum)\n",
    "    \n",
    "sum = 0\n",
    "for i in range(len(dece_cases)):\n",
    "    sum+=int(dece_cases[i]['dl'])\n",
    "    \n",
    "print(\"Delhi Total Deceased Cases Till Date: \",sum)\n",
    "\n",
    "        "
   ]
  },
  {
   "cell_type": "code",
   "execution_count": 30,
   "id": "ecea6abb",
   "metadata": {},
   "outputs": [
    {
     "name": "stdout",
     "output_type": "stream",
     "text": [
      "\n",
      "\n",
      "Sachin Tendulkar has been the most complete batsman of his time, the most prolific runmaker of all time, and arguably the biggest cricket icon the game has ever known. His batting was based on the purest principles: perfect balance, economy of movement, precision in stroke-making, and that intangible quality given only to geniuses - anticipation. If he didn't have a signature stroke - the upright, back-foot punch comes close - it's because he was equally proficient at each of the full range of orthodox shots (and plenty of improvised ones as well) and can pull them out at will.  \n",
      "\n",
      "\n",
      "{'50': '96', '100': '49', 'St': '0', 'Ct': '140', '6s': '195', '4s': '2016', 'SR': '86.23', 'BF': '21367', 'Ave': '44.83', 'HS': '200*', 'Runs': '18426', 'NO': '41', 'Inns': '452', 'Mat': '463'}\n"
     ]
    }
   ],
   "source": [
    "import urllib.request as url\n",
    "import json\n",
    "\n",
    "res=url.urlopen('https://cricapi.com/api/playerStats?apikey=60dTbfQmRyQLhI861tnMGYJEQB72&pid=35320')\n",
    "data=json.load(res)\n",
    "print(data['profile'])\n",
    "odi= data['data']['batting']['ODIs']\n",
    "print(odi)\n"
   ]
  },
  {
   "cell_type": "code",
   "execution_count": 53,
   "id": "5d3c2c96",
   "metadata": {},
   "outputs": [
    {
     "name": "stdout",
     "output_type": "stream",
     "text": [
      "Enter the Name of palyer: kholi\n",
      "[]\n"
     ]
    }
   ],
   "source": [
    "import urllib.request as url\n",
    "import json\n",
    "\n",
    "pl_name=input(\"Enter the Name of palyer: \")\n",
    "pl_name=pl_name.replace(' ','%20')\n",
    "path='https://cricapi.com/api/playerFinder?apikey=60dTbfQmRyQLhI861tnMGYJEQB72&name={}'.format(pl_name)\n",
    "res=url.urlopen(path)\n",
    "data=json.load(res)\n",
    "print(data['data'])\n",
    "Pid=data[\"pid\"]\n",
    "print(Pid)\n",
    "\n"
   ]
  },
  {
   "cell_type": "code",
   "execution_count": 52,
   "id": "2a85e08e",
   "metadata": {},
   "outputs": [
    {
     "name": "stdout",
     "output_type": "stream",
     "text": [
      "\n",
      "\n",
      "Sachin Tendulkar has been the most complete batsman of his time, the most prolific runmaker of all time, and arguably the biggest cricket icon the game has ever known. His batting was based on the purest principles: perfect balance, economy of movement, precision in stroke-making, and that intangible quality given only to geniuses - anticipation. If he didn't have a signature stroke - the upright, back-foot punch comes close - it's because he was equally proficient at each of the full range of orthodox shots (and plenty of improvised ones as well) and can pull them out at will.  \n",
      "\n",
      "\n",
      "35320\n"
     ]
    }
   ],
   "source": [
    "import urllib.request as url\n",
    "import json\n",
    "\n",
    "res=url.urlopen('https://cricapi.com/api/playerStats?apikey=60dTbfQmRyQLhI861tnMGYJEQB72&pid=35320')\n",
    "data=json.load(res)\n",
    "print(data['profile'])\n",
    "odi= data['pid']\n",
    "print(odi)"
   ]
  },
  {
   "cell_type": "code",
   "execution_count": 6,
   "id": "465725fa",
   "metadata": {},
   "outputs": [
    {
     "name": "stdout",
     "output_type": "stream",
     "text": [
      "Enter the Name of player: virat\n",
      "50626\n"
     ]
    }
   ],
   "source": [
    "import urllib.request as url\n",
    "import json\n",
    "\n",
    "pl_name=input(\"Enter the Name of player: \")\n",
    "pl_name=pl_name.replace(' ','%20')\n",
    "path='https://cricapi.com/api/playerFinder?apikey=60dTbfQmRyQLhI861tnMGYJEQB72&name={}'.format(pl_name)\n",
    "res=url.urlopen(path)\n",
    "data=json.load(res)\n",
    "pd=(data['data'])\n",
    "pids=int(pd[0]['pid'])\n",
    "print(pids)"
   ]
  },
  {
   "cell_type": "code",
   "execution_count": 8,
   "id": "27977278",
   "metadata": {},
   "outputs": [
    {
     "data": {
      "text/plain": [
       "dict_keys(['data', 'ttl', 'cache3', 'v', 'provider', 'creditsLeft'])"
      ]
     },
     "execution_count": 8,
     "metadata": {},
     "output_type": "execute_result"
    }
   ],
   "source": [
    "import urllib.request as url\n",
    "import json\n",
    "path='https://cricapi.com/api/playerFinder?apikey=60dTbfQmRyQLhI861tnMGYJEQB72&name={}'.format(pl_name)\n",
    "res=url.urlopen(path)\n",
    "data=json.load(res)\n",
    "data.keys()"
   ]
  },
  {
   "cell_type": "code",
   "execution_count": 36,
   "id": "f55f20d7",
   "metadata": {},
   "outputs": [
    {
     "name": "stdout",
     "output_type": "stream",
     "text": [
      "ENTER THE NAME OF PLAYER: tendulkar\n",
      "\n",
      "\n",
      "Sachin Tendulkar has been the most complete batsman of his time, the most prolific runmaker of all time, and arguably the biggest cricket icon the game has ever known. His batting was based on the purest principles: perfect balance, economy of movement, precision in stroke-making, and that intangible quality given only to geniuses - anticipation. If he didn't have a signature stroke - the upright, back-foot punch comes close - it's because he was equally proficient at each of the full range of orthodox shots (and plenty of improvised ones as well) and can pull them out at will.  \n",
      "\n",
      "\n",
      "{'50': '96', '100': '49', 'St': '0', 'Ct': '140', '6s': '195', '4s': '2016', 'SR': '86.23', 'BF': '21367', 'Ave': '44.83', 'HS': '200*', 'Runs': '18426', 'NO': '41', 'Inns': '452', 'Mat': '463'}\n"
     ]
    }
   ],
   "source": [
    "import urllib.request as url\n",
    "import json\n",
    "\n",
    "pl_name=input(\"ENTER THE NAME OF PLAYER: \")\n",
    "pl_name=pl_name.replace(' ','%20')\n",
    "p_find='https://cricapi.com/api/playerFinder?apikey=60dTbfQmRyQLhI861tnMGYJEQB72&name={}'.format(pl_name)\n",
    "res= url.urlopen(p_find)\n",
    "data=json.load(res)\n",
    "pd=(data['data'])\n",
    "pids=int(pd[0]['pid'])\n",
    "p_s='https://cricapi.com/api/playerStats?apikey=60dTbfQmRyQLhI861tnMGYJEQB72&pid={}'.format(pids)\n",
    "res=url.urlopen(p_s)\n",
    "data=json.load(res)\n",
    "pd=(data['profile'])\n",
    "print(pd)\n",
    "odi= data['data']['batting']['ODIs']\n",
    "print(odi)\n",
    "\n",
    "\n"
   ]
  },
  {
   "cell_type": "code",
   "execution_count": null,
   "id": "d412584c",
   "metadata": {},
   "outputs": [],
   "source": []
  }
 ],
 "metadata": {
  "kernelspec": {
   "display_name": "Python 3",
   "language": "python",
   "name": "python3"
  },
  "language_info": {
   "codemirror_mode": {
    "name": "ipython",
    "version": 3
   },
   "file_extension": ".py",
   "mimetype": "text/x-python",
   "name": "python",
   "nbconvert_exporter": "python",
   "pygments_lexer": "ipython3",
   "version": "3.9.4"
  }
 },
 "nbformat": 4,
 "nbformat_minor": 5
}
