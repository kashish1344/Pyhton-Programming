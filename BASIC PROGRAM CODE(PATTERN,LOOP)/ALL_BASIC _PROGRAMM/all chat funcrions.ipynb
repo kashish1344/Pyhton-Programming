{
 "cells": [
  {
   "cell_type": "code",
   "execution_count": null,
   "id": "00e7ab24",
   "metadata": {},
   "outputs": [
    {
     "name": "stdout",
     "output_type": "stream",
     "text": [
      "Enter Your Message: play song\n",
      "Playing:  Jubin - Habibi Albi.mp3\n"
     ]
    }
   ],
   "source": [
    "import os \n",
    "import random\n",
    "from datetime import datetime as dt\n",
    "dt.now()\n",
    "chat=True\n",
    "while chat:\n",
    "    msg=input(\"Enter Your Message: \")\n",
    "    if msg=='hello' or msg=='hi' or msg=='hey':\n",
    "        print(\"Hello User\")\n",
    "    elif msg=='play music' or msg=='play song':\n",
    "        os.chdir(r'C:\\Users\\himan\\Downloads\\Music')\n",
    "        songs=os.listdir()\n",
    "        song=random.choice(songs)\n",
    "        print(\"Playing: \",song)\n",
    "        os.startfile(song)\n",
    "    elif msg=='date':\n",
    "        d=dt.now().date()\n",
    "        print(d.strftime('%d/%m/%y, %A'))\n",
    "    elif msg=='time':\n",
    "        d=dt.now().time()\n",
    "        print(d.strftime('%H-%M-%S, %p'))\n",
    "    elif msg=='bye':\n",
    "        print(\"Bye User\")\n",
    "    else:\n",
    "        print(\"Please try Again ,I didnt Get You\")"
   ]
  },
  {
   "cell_type": "code",
   "execution_count": 1,
   "id": "e8123442",
   "metadata": {},
   "outputs": [
    {
     "name": "stdout",
     "output_type": "stream",
     "text": [
      "Enter Your Choice: paper\n",
      "You Have Won\n",
      "Enter Your Choice: stone\n",
      "YOU HAVE WON\n",
      "Enter Your Choice: scissor\n",
      "You Lose The Game\n",
      "Enter Your Choice: paper\n",
      "Invalid input\n",
      "Enter Your Choice: paper\n",
      "You Lose The Game\n",
      "No More Chances Given to You\n",
      "Your Score 2 Cpu score 2 \n"
     ]
    }
   ],
   "source": [
    "import random\n",
    "chances=0\n",
    "options= ('stone' , 'Paper' , 'scissor')\n",
    "user_score=0\n",
    "cpu_score=0\n",
    "while True:\n",
    "    cpu=random.choice(options)\n",
    "    user=input(\"Enter Your Choice: \")\n",
    "    if user==cpu:\n",
    "        print(\"Game Draw\")\n",
    "    elif user=='stone' and cpu=='scissor':\n",
    "        print(\"YOU HAVE WON\")\n",
    "        user_score+=1\n",
    "    elif user=='paper' and cpu=='stone':\n",
    "        print(\"You Have Won\")\n",
    "        user_score+=1\n",
    "    elif user=='scissor' and cpu=='paper':\n",
    "        print(\"You Have Won\")\n",
    "        user_score+=1\n",
    "    elif cpu=='stone' and user=='scissor':\n",
    "        print(\"You Lose The Game\")\n",
    "        cpu_score+=1\n",
    "    elif cpu=='paper' and user=='stone':\n",
    "        print(\"You Lose The Game\")\n",
    "        cpu_score+=1\n",
    "    elif cpu=='scissor' and user=='paper':\n",
    "        print(\"You Lose The Game\")\n",
    "        cpu_score+=1\n",
    "    else:\n",
    "        print('Invalid input')\n",
    "        \n",
    "    chances+=1\n",
    "    if chances==5:\n",
    "        print(\"No More Chances Given to You\")\n",
    "        break\n",
    "    \n",
    "print('Your Score {} Cpu score {} '.format(user_score, cpu_score))"
   ]
  },
  {
   "cell_type": "code",
   "execution_count": null,
   "id": "ab21676f",
   "metadata": {},
   "outputs": [],
   "source": []
  }
 ],
 "metadata": {
  "kernelspec": {
   "display_name": "Python 3",
   "language": "python",
   "name": "python3"
  },
  "language_info": {
   "codemirror_mode": {
    "name": "ipython",
    "version": 3
   },
   "file_extension": ".py",
   "mimetype": "text/x-python",
   "name": "python",
   "nbconvert_exporter": "python",
   "pygments_lexer": "ipython3",
   "version": "3.9.4"
  }
 },
 "nbformat": 4,
 "nbformat_minor": 5
}
