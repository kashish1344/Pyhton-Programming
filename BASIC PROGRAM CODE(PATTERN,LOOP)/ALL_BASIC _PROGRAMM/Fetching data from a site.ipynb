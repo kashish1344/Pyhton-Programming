{
 "cells": [
  {
   "cell_type": "code",
   "execution_count": 21,
   "id": "a6e5d880",
   "metadata": {},
   "outputs": [
    {
     "name": "stdout",
     "output_type": "stream",
     "text": [
      "Enter The Name Of Movie: iron man\n",
      "Summary:  None\n",
      "\n",
      "Rating:  \n",
      "\n",
      "7.9/10 \n",
      "954,893\n",
      "\n",
      "1,394 user\n",
      "546 critic\n",
      "\n",
      "\n"
     ]
    }
   ],
   "source": [
    "import bs4\n",
    "import urllib.request as url\n",
    "movie=input(\"Enter The Name Of Movie: \")\n",
    "movie=movie.replace(' ','+')\n",
    "path='https://www.imdb.com/find?q={}&ref_=nv_sr_sm'.format(movie)\n",
    "res= url.urlopen(path)\n",
    "page= bs4.BeautifulSoup(res,'lxml')\n",
    "td=page.find('td',class_='result_text')\n",
    "m_link=td.find('a')['href']\n",
    "new_link='https://www.imdb.com' + m_link\n",
    "res=url.urlopen(new_link)\n",
    "page=bs4.BeautifulSoup(res,'lxml')\n",
    "m_bio=page.find('div',class_=\"plot_summary \")\n",
    "rating=page.find('div', class_='imdbRating')\n",
    "print('Summary: ',m_bio)\n",
    "print()\n",
    "print('Rating: ',rating.text)"
   ]
  },
  {
   "cell_type": "code",
   "execution_count": null,
   "id": "e3b2861a",
   "metadata": {},
   "outputs": [],
   "source": []
  }
 ],
 "metadata": {
  "kernelspec": {
   "display_name": "Python 3",
   "language": "python",
   "name": "python3"
  },
  "language_info": {
   "codemirror_mode": {
    "name": "ipython",
    "version": 3
   },
   "file_extension": ".py",
   "mimetype": "text/x-python",
   "name": "python",
   "nbconvert_exporter": "python",
   "pygments_lexer": "ipython3",
   "version": "3.9.4"
  }
 },
 "nbformat": 4,
 "nbformat_minor": 5
}
