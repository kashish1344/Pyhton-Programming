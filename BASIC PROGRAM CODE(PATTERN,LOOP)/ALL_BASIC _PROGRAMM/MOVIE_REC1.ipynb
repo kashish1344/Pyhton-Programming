{
 "cells": [
  {
   "cell_type": "code",
   "execution_count": 15,
   "id": "fcb4a65a",
   "metadata": {},
   "outputs": [
    {
     "name": "stdout",
     "output_type": "stream",
     "text": [
      "{'action': 0.29, 'comedy': 0.13, 'drama': 0.21, 'thriller': 0.13, 'horror': 0.06}\n"
     ]
    }
   ],
   "source": [
    "dataset = {\n",
    "    \"action\" : [\"matrix\",\"batman\",\"superman\",\"dabang\",\"avengers\",\"thor\",\n",
    "                \"hulk\",\"krrish\",\"ironman\",'kgf'],\n",
    "    \"comedy\" : [\"the mask\",\"dhamaal\",\"bala\",\"housefull\",\"golmaal\",\n",
    "                \"hera pheri\",\"golmaal 2\",\"dhamaal 2\",\"hera pheri 2\"],\n",
    "    \"drama\" : [\"dabang\",\"krrish\",\"hera pheri\",\"bala\",\"kahani\",\"batla house\",\n",
    "               \"kgf\",\"zero\",\"sultan\"],\n",
    "    \"thriller\" : [\"kahani\",\"kgf\",\"batla house\",\"madras cafe\",\"uri\",\n",
    "                  \"raw\",\"lucy\",\"the ring\",\"oculus\"],\n",
    "    \"horror\" : [\"oculus\",\"the ring\",\"it\",\"the ring 2\",\"evil dead\",\n",
    "                \"conjuring\",\"conjuring 2\",\"bhootnath\",\"aatma\"]\n",
    "}\n",
    "\n",
    "user = {'hulk','dabang','thor', 'lucy', 'it', 'golmaal', 'kgf', 'bala'}\n",
    "\n",
    "scores={}\n",
    "for items in dataset:\n",
    "    movie=set(dataset[items])\n",
    "    numer=user.intersection(movie)\n",
    "    denom=user.union(movie)\n",
    "    score=len(numer)/len(denom)\n",
    "    scores[items]=round(score,2)\n",
    "    \n",
    "print(scores)\n"
   ]
  },
  {
   "cell_type": "code",
   "execution_count": 28,
   "id": "0068656c",
   "metadata": {},
   "outputs": [
    {
     "name": "stdout",
     "output_type": "stream",
     "text": [
      "{'action': 0.29, 'comedy': 0.13, 'drama': 0.21, 'thriller': 0.13, 'horror': 0.06}\n",
      "action\n"
     ]
    }
   ],
   "source": [
    "dataset = {\n",
    "    \"action\" : [\"matrix\",\"batman\",\"superman\",\"dabang\",\"avengers\",\"thor\",\n",
    "                \"hulk\",\"krrish\",\"ironman\",'kgf'],\n",
    "    \"comedy\" : [\"the mask\",\"dhamaal\",\"bala\",\"housefull\",\"golmaal\",\n",
    "                \"hera pheri\",\"golmaal 2\",\"dhamaal 2\",\"hera pheri 2\"],\n",
    "    \"drama\" : [\"dabang\",\"krrish\",\"hera pheri\",\"bala\",\"kahani\",\"batla house\",\n",
    "               \"kgf\",\"zero\",\"sultan\"],\n",
    "    \"thriller\" : [\"kahani\",\"kgf\",\"batla house\",\"madras cafe\",\"uri\",\n",
    "                  \"raw\",\"lucy\",\"the ring\",\"oculus\"],\n",
    "    \"horror\" : [\"oculus\",\"the ring\",\"it\",\"the ring 2\",\"evil dead\",\n",
    "                \"conjuring\",\"conjuring 2\",\"bhootnath\",\"aatma\"]\n",
    "}\n",
    "\n",
    "user = {'hulk','dabang','thor', 'lucy', 'it', 'golmaal', 'kgf', 'bala'}\n",
    "\n",
    "scores={}\n",
    "for items in dataset:\n",
    "    movie=set(dataset[items])\n",
    "    numer=user.intersection(movie)\n",
    "    denom=user.union(movie)\n",
    "    score=len(numer)/len(denom)\n",
    "    scores[items]=round(score,2)\n",
    "    \n",
    "print(scores)\n",
    "cat=max(scores,key=scores.get)\n",
    "print(cat)"
   ]
  },
  {
   "cell_type": "code",
   "execution_count": 29,
   "id": "873f2fa8",
   "metadata": {},
   "outputs": [
    {
     "name": "stdout",
     "output_type": "stream",
     "text": [
      "{'action': 0.29, 'comedy': 0.13, 'drama': 0.21, 'thriller': 0.13, 'horror': 0.06}\n",
      "horror\n"
     ]
    }
   ],
   "source": [
    "dataset = {\n",
    "    \"action\" : [\"matrix\",\"batman\",\"superman\",\"dabang\",\"avengers\",\"thor\",\n",
    "                \"hulk\",\"krrish\",\"ironman\",'kgf'],\n",
    "    \"comedy\" : [\"the mask\",\"dhamaal\",\"bala\",\"housefull\",\"golmaal\",\n",
    "                \"hera pheri\",\"golmaal 2\",\"dhamaal 2\",\"hera pheri 2\"],\n",
    "    \"drama\" : [\"dabang\",\"krrish\",\"hera pheri\",\"bala\",\"kahani\",\"batla house\",\n",
    "               \"kgf\",\"zero\",\"sultan\"],\n",
    "    \"thriller\" : [\"kahani\",\"kgf\",\"batla house\",\"madras cafe\",\"uri\",\n",
    "                  \"raw\",\"lucy\",\"the ring\",\"oculus\"],\n",
    "    \"horror\" : [\"oculus\",\"the ring\",\"it\",\"the ring 2\",\"evil dead\",\n",
    "                \"conjuring\",\"conjuring 2\",\"bhootnath\",\"aatma\"]\n",
    "}\n",
    "\n",
    "user = {'hulk','dabang','thor', 'lucy', 'it', 'golmaal', 'kgf', 'bala'}\n",
    "\n",
    "scores={}\n",
    "for items in dataset:\n",
    "    movie=set(dataset[items])\n",
    "    numer=user.intersection(movie)\n",
    "    denom=user.union(movie)\n",
    "    score=len(numer)/len(denom)\n",
    "    scores[items]=round(score,2)\n",
    "    \n",
    "print(scores)\n",
    "cat=min(scores,key=scores.get)\n",
    "print(cat)"
   ]
  },
  {
   "cell_type": "code",
   "execution_count": 2,
   "id": "d2903867",
   "metadata": {},
   "outputs": [
    {
     "name": "stdout",
     "output_type": "stream",
     "text": [
      "{'action': 0.25, 'comedy': 0.0, 'drama': 0.08, 'thriller': 0.17, 'horror': 0.08}\n",
      "action\n"
     ]
    }
   ],
   "source": [
    "dataset = {\n",
    "    \"action\" : [\"matrix\",\"batman\",\"superman\",\"dabang\",\"avengers\",\"thor\",\n",
    "                \"hulk\",\"krrish\",\"ironman\",'kgf'],\n",
    "    \"comedy\" : [\"the mask\",\"dhamaal\",\"bala\",\"housefull\",\"golmaal\",\n",
    "                \"hera pheri\",\"golmaal 2\",\"dhamaal 2\",\"hera pheri 2\"],\n",
    "    \"drama\" : [\"dabang\",\"krrish\",\"hera pheri\",\"bala\",\"kahani\",\"batla house\",\n",
    "               \"kgf\",\"zero\",\"sultan\"],\n",
    "    \"thriller\" : [\"kahani\",\"kgf\",\"batla house\",\"madras cafe\",\"uri\",\n",
    "                  \"raw\",\"lucy\",\"the ring\",\"oculus\"],\n",
    "    \"horror\" : [\"oculus\",\"the ring\",\"it\",\"the ring 2\",\"evil dead\",\n",
    "                \"conjuring\",\"conjuring 2\",\"bhootnath\",\"aatma\"]\n",
    "}\n",
    "\n",
    "user_1 = {'hulk','dabang','thor', 'lucy', 'it', 'golmaal', 'kgf', 'bala'}\n",
    "user_2= {'hulk','kahani','raw', 'lucy', 'evil dead', 'thor', 'kgf', 'it',\n",
    "          'sultan', 'oculus'}\n",
    "common_movies=user_1.intersection(user_2)\n",
    " \n",
    "scores={}\n",
    "for items in dataset:\n",
    "    movie=set(dataset[items])\n",
    "    numer=common_movies.intersection(movie)\n",
    "    denom=common_movies.union(movie)\n",
    "    score=len(numer)/len(denom)\n",
    "    scores[items]=round(score,2)\n",
    "print(scores)\n",
    "cat=max(scores,key=scores.get)\n"
   ]
  },
  {
   "cell_type": "code",
   "execution_count": 7,
   "id": "73e4e6f6",
   "metadata": {},
   "outputs": [
    {
     "name": "stdout",
     "output_type": "stream",
     "text": [
      "{'action': 0.29, 'comedy': 0.13, 'drama': 0.21, 'thriller': 0.13, 'horror': 0.06}\n",
      "Rec movies are {'ironman', 'batman', 'superman', 'avengers', 'matrix', 'krrish'}\n"
     ]
    }
   ],
   "source": [
    "dataset = {\n",
    "    \"action\" : [\"matrix\",\"batman\",\"superman\",\"dabang\",\"avengers\",\"thor\",\n",
    "                \"hulk\",\"krrish\",\"ironman\",'kgf'],\n",
    "    \"comedy\" : [\"the mask\",\"dhamaal\",\"bala\",\"housefull\",\"golmaal\",\n",
    "                \"hera pheri\",\"golmaal 2\",\"dhamaal 2\",\"hera pheri 2\"],\n",
    "    \"drama\" : [\"dabang\",\"krrish\",\"hera pheri\",\"bala\",\"kahani\",\"batla house\",\n",
    "               \"kgf\",\"zero\",\"sultan\"],\n",
    "    \"thriller\" : [\"kahani\",\"kgf\",\"batla house\",\"madras cafe\",\"uri\",\n",
    "                  \"raw\",\"lucy\",\"the ring\",\"oculus\"],\n",
    "    \"horror\" : [\"oculus\",\"the ring\",\"it\",\"the ring 2\",\"evil dead\",\n",
    "                \"conjuring\",\"conjuring 2\",\"bhootnath\",\"aatma\"]\n",
    "}\n",
    "\n",
    "user = {'hulk','dabang','thor', 'lucy', 'it', 'golmaal', 'kgf', 'bala'}\n",
    "scores = {}\n",
    "for item in dataset:\n",
    "    movies = set(dataset[item])\n",
    "    numer = user.intersection(movies)\n",
    "    denom = user.union(movies)\n",
    "    score = len(numer) / len(denom)\n",
    "    scores[item] = round(score,2)\n",
    "\n",
    "print(scores)\n",
    "\n",
    "cat = max(scores, key=scores.get)\n",
    "movies = set(dataset[cat]) - user\n",
    "print(\"Rec movies are\",movies)"
   ]
  },
  {
   "cell_type": "code",
   "execution_count": 6,
   "id": "07c83435",
   "metadata": {},
   "outputs": [
    {
     "name": "stdout",
     "output_type": "stream",
     "text": [
      "{'action': 0.25, 'comedy': 0.0, 'drama': 0.08, 'thriller': 0.17, 'horror': 0.08}\n",
      "Rec movies are {'matrix', 'ironman', 'dabang'}\n"
     ]
    }
   ],
   "source": [
    "\n",
    "dataset = {\n",
    "    \"action\" : [\"matrix\",\"batman\",\"superman\",\"dabang\",\"avengers\",\"thor\",\n",
    "                \"hulk\",\"krrish\",\"ironman\",'kgf'],\n",
    "    \"comedy\" : [\"the mask\",\"dhamaal\",\"bala\",\"housefull\",\"golmaal\",\n",
    "                \"hera pheri\",\"golmaal 2\",\"dhamaal 2\",\"hera pheri 2\"],\n",
    "    \"drama\" : [\"dabang\",\"krrish\",\"hera pheri\",\"bala\",\"kahani\",\"batla house\",\n",
    "               \"kgf\",\"zero\",\"sultan\"],\n",
    "    \"thriller\" : [\"kahani\",\"kgf\",\"batla house\",\"madras cafe\",\"uri\",\n",
    "                  \"raw\",\"lucy\",\"the ring\",\"oculus\"],\n",
    "    \"horror\" : [\"oculus\",\"the ring\",\"it\",\"the ring 2\",\"evil dead\",\n",
    "                \"conjuring\",\"conjuring 2\",\"bhootnath\",\"aatma\"]\n",
    "}\n",
    "\n",
    "user_1 = {'hulk','dabang','thor', 'lucy', 'it', 'golmaal', 'kgf', 'bala',\n",
    "          'ironman', 'matrix'}\n",
    "user_2 = {'hulk','kahani','raw', 'lucy', 'evil dead', 'thor', 'kgf', 'it',\n",
    "          'sultan', 'oculus'}\n",
    "\n",
    "common_movies = user_1.intersection(user_2)\n",
    "\n",
    "scores = {}\n",
    "for item in dataset:\n",
    "    movies = set(dataset[item])\n",
    "    numer = common_movies.intersection(movies)\n",
    "    denom = common_movies.union(movies)\n",
    "    score = len(numer) / len(denom)\n",
    "    scores[item] = round(score,2)\n",
    "\n",
    "print(scores)\n",
    "cat = max(scores, key=scores.get)\n",
    "\n",
    "movies = set(dataset[cat]).intersection(user_1) - user_2\n",
    "print(\"Rec movies are\",movies)"
   ]
  },
  {
   "cell_type": "code",
   "execution_count": null,
   "id": "4b3939ff",
   "metadata": {},
   "outputs": [],
   "source": [
    "Plagiarism Check\n",
    "\n",
    "text_1 = \"hello how are you ?\"\n",
    "text_2 = \"hello hey how was your day ?\"\n",
    "\n",
    "1. Split\n",
    "2. Remove Stopwords [a,am,are,the,that,this,was,where,by,of...]\n",
    "3. Apply jaccard distance to find similarity score"
   ]
  },
  {
   "cell_type": "code",
   "execution_count": 8,
   "id": "ce26b8cb",
   "metadata": {
    "scrolled": true
   },
   "outputs": [
    {
     "ename": "AttributeError",
     "evalue": "'str' object has no attribute 'intersection'",
     "output_type": "error",
     "traceback": [
      "\u001b[1;31m---------------------------------------------------------------------------\u001b[0m",
      "\u001b[1;31mAttributeError\u001b[0m                            Traceback (most recent call last)",
      "\u001b[1;32m<ipython-input-8-85ecfcc5a9dc>\u001b[0m in \u001b[0;36m<module>\u001b[1;34m\u001b[0m\n\u001b[0;32m      3\u001b[0m \u001b[0msplit_text\u001b[0m\u001b[1;33m=\u001b[0m\u001b[0mtext_1\u001b[0m\u001b[1;33m.\u001b[0m\u001b[0msplit\u001b[0m\u001b[1;33m(\u001b[0m\u001b[1;33m)\u001b[0m \u001b[1;32mand\u001b[0m \u001b[0mtext_2\u001b[0m\u001b[1;33m.\u001b[0m\u001b[0msplit\u001b[0m\u001b[1;33m(\u001b[0m\u001b[1;33m)\u001b[0m\u001b[1;33m\u001b[0m\u001b[1;33m\u001b[0m\u001b[0m\n\u001b[0;32m      4\u001b[0m \u001b[0mremove\u001b[0m\u001b[1;33m=\u001b[0m\u001b[1;33m[\u001b[0m\u001b[1;34m'is'\u001b[0m\u001b[1;33m,\u001b[0m\u001b[1;34m'am'\u001b[0m\u001b[1;33m,\u001b[0m\u001b[1;34m'are'\u001b[0m\u001b[1;33m,\u001b[0m\u001b[1;34m'that'\u001b[0m\u001b[1;33m,\u001b[0m\u001b[1;34m'as'\u001b[0m\u001b[1;33m,\u001b[0m\u001b[1;34m'the'\u001b[0m\u001b[1;33m,\u001b[0m\u001b[1;34m'of'\u001b[0m\u001b[1;33m,\u001b[0m\u001b[1;34m'in'\u001b[0m\u001b[1;33m]\u001b[0m\u001b[1;33m\u001b[0m\u001b[1;33m\u001b[0m\u001b[0m\n\u001b[1;32m----> 5\u001b[1;33m \u001b[0mcommon\u001b[0m\u001b[1;33m=\u001b[0m\u001b[0mtext_1\u001b[0m\u001b[1;33m.\u001b[0m\u001b[0mintersection\u001b[0m\u001b[1;33m(\u001b[0m\u001b[0mtext_2\u001b[0m\u001b[1;33m)\u001b[0m\u001b[1;33m\u001b[0m\u001b[1;33m\u001b[0m\u001b[0m\n\u001b[0m\u001b[0;32m      6\u001b[0m \u001b[0mprint\u001b[0m\u001b[1;33m(\u001b[0m\u001b[0mcommon\u001b[0m\u001b[1;33m)\u001b[0m\u001b[1;33m\u001b[0m\u001b[1;33m\u001b[0m\u001b[0m\n",
      "\u001b[1;31mAttributeError\u001b[0m: 'str' object has no attribute 'intersection'"
     ]
    }
   ],
   "source": [
    "text_1='Abdul Rashid Salim Salman Khan is an Indian film actor'\n",
    "text_2='He is cited in the media as one of the most commercially successful actors of Indian cinema'\n",
    "common=text_1.intersection(text_2)\n",
    "common_words{}\n",
    "\n",
    "for i in range(text_1 and text_2):\n",
    "    words = set(dataset[item])\n",
    "    \n",
    "remove=['is','am','are','that','as','the','of','in']\n",
    "print(common)"
   ]
  },
  {
   "cell_type": "code",
   "execution_count": null,
   "id": "a4f65f9b",
   "metadata": {},
   "outputs": [],
   "source": []
  }
 ],
 "metadata": {
  "kernelspec": {
   "display_name": "Python 3",
   "language": "python",
   "name": "python3"
  },
  "language_info": {
   "codemirror_mode": {
    "name": "ipython",
    "version": 3
   },
   "file_extension": ".py",
   "mimetype": "text/x-python",
   "name": "python",
   "nbconvert_exporter": "python",
   "pygments_lexer": "ipython3",
   "version": "3.9.4"
  }
 },
 "nbformat": 4,
 "nbformat_minor": 5
}
