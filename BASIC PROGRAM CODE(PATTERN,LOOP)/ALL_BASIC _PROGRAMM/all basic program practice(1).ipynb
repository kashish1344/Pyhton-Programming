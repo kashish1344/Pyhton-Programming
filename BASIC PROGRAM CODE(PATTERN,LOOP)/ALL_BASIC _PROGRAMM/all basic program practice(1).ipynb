{
 "cells": [
  {
   "cell_type": "code",
   "execution_count": 1,
   "id": "d1c698a0",
   "metadata": {},
   "outputs": [
    {
     "name": "stdout",
     "output_type": "stream",
     "text": [
      "5\n"
     ]
    }
   ],
   "source": [
    "a=2\n",
    "b=3\n",
    "c=a+b\n",
    "print(c)"
   ]
  },
  {
   "cell_type": "code",
   "execution_count": 3,
   "id": "4198e20e",
   "metadata": {},
   "outputs": [
    {
     "name": "stdout",
     "output_type": "stream",
     "text": [
      "Enter 1st number: 9\n",
      "Enter 2nd Number: 10\n",
      "\n",
      "1. Addition is 19\n",
      "2. Subtraction is -1\n",
      "3. Division is 0.9\n",
      "4. Multiplication is 90\n",
      "\n"
     ]
    }
   ],
   "source": [
    "a=int(input(\"Enter 1st number: \"))\n",
    "b=int(input(\"Enter 2nd Number: \"))\n",
    "print(f'''\n",
    "1. Addition is {(c:=a+b)}\n",
    "2. Subtraction is {(c:=a-b)}\n",
    "3. Division is {(c:=a/b)}\n",
    "4. Multiplication is {(c:=a*b)}\n",
    "''')"
   ]
  },
  {
   "cell_type": "code",
   "execution_count": 6,
   "id": "f66489b4",
   "metadata": {},
   "outputs": [
    {
     "name": "stdout",
     "output_type": "stream",
     "text": [
      "Enter 1st Number: 5\n",
      "Enter 2nd Number: 65\n",
      "Sum of 5 and 65 is 70\n"
     ]
    }
   ],
   "source": [
    "a=int(input(\"Enter 1st Number: \"))\n",
    "b=int(input(\"Enter 2nd Number: \"))\n",
    "c=a+b\n",
    "print( 'Sum of {} and {} is {}'.format(a, b, c))"
   ]
  },
  {
   "cell_type": "code",
   "execution_count": 7,
   "id": "40760954",
   "metadata": {},
   "outputs": [
    {
     "name": "stdout",
     "output_type": "stream",
     "text": [
      "0\n",
      "1\n",
      "2\n",
      "3\n",
      "4\n",
      "5\n",
      "6\n",
      "7\n",
      "8\n",
      "9\n",
      "10\n"
     ]
    }
   ],
   "source": [
    "for i in range(11):\n",
    "    print(i)\n",
    "    "
   ]
  },
  {
   "cell_type": "code",
   "execution_count": 9,
   "id": "2405c511",
   "metadata": {},
   "outputs": [
    {
     "name": "stdout",
     "output_type": "stream",
     "text": [
      "10\n",
      "9\n",
      "8\n",
      "7\n",
      "6\n",
      "5\n",
      "4\n",
      "3\n",
      "2\n",
      "1\n",
      "0\n"
     ]
    }
   ],
   "source": [
    "for i in range(11):\n",
    "    i=10-i\n",
    "    print(i)"
   ]
  },
  {
   "cell_type": "code",
   "execution_count": 13,
   "id": "df07df3a",
   "metadata": {},
   "outputs": [
    {
     "name": "stdout",
     "output_type": "stream",
     "text": [
      "***********\n",
      "***********\n",
      "***********\n",
      "***********\n",
      "***********\n",
      "***********\n",
      "***********\n",
      "***********\n",
      "***********\n",
      "***********\n",
      "***********\n"
     ]
    }
   ],
   "source": [
    "for i in range(11):\n",
    "    for j in range(11):\n",
    "        print('*',end='')\n",
    "    print()"
   ]
  },
  {
   "cell_type": "code",
   "execution_count": 16,
   "id": "056085ec",
   "metadata": {},
   "outputs": [
    {
     "name": "stdout",
     "output_type": "stream",
     "text": [
      "0\n",
      "11\n",
      "222\n",
      "3333\n",
      "44444\n",
      "555555\n"
     ]
    }
   ],
   "source": [
    "for i in range(6):\n",
    "    for j in range(i+1):\n",
    "        print(i,end='')\n",
    "    print()"
   ]
  },
  {
   "cell_type": "code",
   "execution_count": 22,
   "id": "54fec962",
   "metadata": {},
   "outputs": [
    {
     "name": "stdout",
     "output_type": "stream",
     "text": [
      "0 \n",
      "0 1 \n",
      "0 1 2 \n",
      "0 1 2 3 \n",
      "0 1 2 3 4 \n",
      "0 1 2 3 4 5 \n"
     ]
    }
   ],
   "source": [
    "for i in range(6):\n",
    "    for j in range(i+1):\n",
    "        print(j,end=' ')\n",
    "    print()"
   ]
  },
  {
   "cell_type": "code",
   "execution_count": 25,
   "id": "69744656",
   "metadata": {},
   "outputs": [
    {
     "name": "stdout",
     "output_type": "stream",
     "text": [
      "0123456789\n",
      "012345678\n",
      "01234567\n",
      "0123456\n",
      "012345\n",
      "01234\n",
      "0123\n",
      "012\n",
      "01\n",
      "0\n",
      "\n"
     ]
    }
   ],
   "source": [
    "for i in range(11):\n",
    "    for j in range(10-i):\n",
    "        print(j,end='')\n",
    "    print()"
   ]
  },
  {
   "cell_type": "code",
   "execution_count": 28,
   "id": "934c2580",
   "metadata": {},
   "outputs": [
    {
     "name": "stdout",
     "output_type": "stream",
     "text": [
      "111111111\n",
      "22222222\n",
      "3333333\n",
      "444444\n",
      "55555\n",
      "6666\n",
      "777\n",
      "88\n",
      "9\n",
      "\n"
     ]
    }
   ],
   "source": [
    "for i in range(1,11):\n",
    "    for j in range(10-i):\n",
    "        print(i,end='')\n",
    "    print()"
   ]
  },
  {
   "cell_type": "code",
   "execution_count": 30,
   "id": "49c2ff16",
   "metadata": {},
   "outputs": [
    {
     "name": "stdout",
     "output_type": "stream",
     "text": [
      "* * * * * * * * * * \n",
      "* * * * * * * * * \n",
      "* * * * * * * * \n",
      "* * * * * * * \n",
      "* * * * * * \n",
      "* * * * * \n",
      "* * * * \n",
      "* * * \n",
      "* * \n",
      "* \n",
      "\n"
     ]
    }
   ],
   "source": [
    "for i in range(11):\n",
    "    for j in range(10-i):\n",
    "        print('*',end=' ')\n",
    "    print()"
   ]
  },
  {
   "cell_type": "code",
   "execution_count": 37,
   "id": "7bdcf5de",
   "metadata": {},
   "outputs": [
    {
     "name": "stdout",
     "output_type": "stream",
     "text": [
      "1 \n",
      "2 3 \n",
      "4 5 6 \n",
      "7 8 9 10 \n",
      "11 12 13 14 15 \n",
      "16 17 18 19 20 21 \n",
      "22 23 24 25 26 27 28 \n",
      "29 30 31 32 33 34 35 36 \n",
      "37 38 39 40 41 42 43 44 45 \n",
      "46 47 48 49 50 51 52 53 54 55 \n",
      "56 57 58 59 60 61 62 63 64 65 66 \n"
     ]
    }
   ],
   "source": [
    "k=0\n",
    "for i in range(11):\n",
    "    for j in range(i+1):\n",
    "        k+=1\n",
    "        print(k,end=' ')\n",
    "    print()"
   ]
  },
  {
   "cell_type": "code",
   "execution_count": 38,
   "id": "4c38bd1f",
   "metadata": {},
   "outputs": [
    {
     "name": "stdout",
     "output_type": "stream",
     "text": [
      "Enter the Number to Show Table: 5\n",
      "5 x 1 = 5\n",
      "5 x 2 = 10\n",
      "5 x 3 = 15\n",
      "5 x 4 = 20\n",
      "5 x 5 = 25\n",
      "5 x 6 = 30\n",
      "5 x 7 = 35\n",
      "5 x 8 = 40\n",
      "5 x 9 = 45\n",
      "5 x 10 = 50\n"
     ]
    }
   ],
   "source": [
    "a=int(input(\"Enter the Number to Show Table: \"))\n",
    "for i in range(1,11):\n",
    "    print('{} x {} = {}'.format(a, i, a*i))"
   ]
  },
  {
   "cell_type": "code",
   "execution_count": 48,
   "id": "f3bb435f",
   "metadata": {},
   "outputs": [
    {
     "name": "stdout",
     "output_type": "stream",
     "text": [
      "         1 \n",
      "        2 3 \n",
      "       4 5 6 \n",
      "      7 8 9 10 \n"
     ]
    }
   ],
   "source": [
    "k=0\n",
    "for i in range(1,5):\n",
    "    for j in range(10-i):\n",
    "        print(' ',end='')\n",
    "    for a in  range(1,i+1):\n",
    "        k+=1\n",
    "        print(k,end=' ')\n",
    "    print()"
   ]
  },
  {
   "cell_type": "code",
   "execution_count": 50,
   "id": "bbd64f5d",
   "metadata": {},
   "outputs": [
    {
     "name": "stdout",
     "output_type": "stream",
     "text": [
      "          \n",
      "         * \n",
      "        * * \n",
      "       * * * \n",
      "      * * * * \n",
      "     * * * * * \n",
      "    * * * * * * \n",
      "   * * * * * * * \n",
      "  * * * * * * * * \n",
      " * * * * * * * * * \n",
      "* * * * * * * * * * \n"
     ]
    }
   ],
   "source": [
    "k=0\n",
    "for i in range(11):\n",
    "    for j in range(10-i):\n",
    "        print(' ',end=\"\")\n",
    "    for a in range(1,i+1):       \n",
    "        k+=1\n",
    "        print('*',end=' ')\n",
    "    print()"
   ]
  },
  {
   "cell_type": "code",
   "execution_count": 55,
   "id": "77ed3700",
   "metadata": {},
   "outputs": [
    {
     "name": "stdout",
     "output_type": "stream",
     "text": [
      "          \n",
      "         *\n",
      "        **\n",
      "       ***\n",
      "      ****\n",
      "     *****\n",
      "    ******\n",
      "   *******\n",
      "  ********\n",
      " *********\n",
      "**********\n"
     ]
    }
   ],
   "source": [
    "k=0\n",
    "for i in range(11):\n",
    "    for j in range(10-i):\n",
    "        print(' ',end='')\n",
    "    for a in range(1,i+1):\n",
    "        k+=1\n",
    "        print('*',end='')\n",
    "    print()"
   ]
  },
  {
   "cell_type": "code",
   "execution_count": 58,
   "id": "7f43691d",
   "metadata": {},
   "outputs": [
    {
     "name": "stdout",
     "output_type": "stream",
     "text": [
      "Enter Your  Number: 4\n",
      " Your Number is Even \n"
     ]
    }
   ],
   "source": [
    "a=int(input(\"Enter Your  Number: \"))\n",
    "if a%2==0:\n",
    "    print(\" Your Number is Even \")\n",
    "else:\n",
    "    print(\" Your Number is Odd \")"
   ]
  },
  {
   "cell_type": "code",
   "execution_count": 61,
   "id": "58577856",
   "metadata": {},
   "outputs": [
    {
     "name": "stdout",
     "output_type": "stream",
     "text": [
      "Enter Your Age: 553\n",
      "You Are Eligible For Voting....\n"
     ]
    }
   ],
   "source": [
    "a=int(input(\"Enter Your Age: \"))\n",
    "if a>=18:\n",
    "    print(\"You Are Eligible For Voting....\")\n",
    "else:\n",
    "    print(\"You Are Not Eligible For Voting...\")"
   ]
  },
  {
   "cell_type": "code",
   "execution_count": 62,
   "id": "a03f53e6",
   "metadata": {},
   "outputs": [
    {
     "name": "stdout",
     "output_type": "stream",
     "text": [
      "Enter Your 1st Number: 5\n",
      "Enter Your 2nd Number: 6\n",
      "Maximum Number :  6\n"
     ]
    }
   ],
   "source": [
    "a=int(input(\"Enter Your 1st Number: \"))\n",
    "b=int(input(\"Enter Your 2nd Number: \"))\n",
    "if a>b:\n",
    "    print(\"Maximum Number :\",a)\n",
    "else: \n",
    "    print(\"Maximum Number : \",b)"
   ]
  },
  {
   "cell_type": "code",
   "execution_count": null,
   "id": "e27828bd",
   "metadata": {},
   "outputs": [],
   "source": [
    "a=int(input(\"Enter Marks in 1st Subject: \"))\n",
    "b=int(input(\"Enter Marks in 2nd Subject: \"))\n",
    "c=int(input(\"Enter Marks in 3rd Subject: \"))\n",
    "d=int(input(\"Enter Marks in 4th Subject: \"))\n",
    "e=int(input(\"Enter Marks in 5th Subject: \"))\n",
    "total=a+b+c+d+e\n",
    "percent=(total/500)*100\n",
    "print()\n",
    "print(\"Total Marks = \",total,\"   Percentage = \",percent)\n",
    "print()\n",
    "if percent>=80:\n",
    "    print(\"Your Grade is 'A' \")\n",
    "elif percent>=60:\n",
    "    print(\"Your Grade is 'B' \")\n",
    "elif percent>=40:\n",
    "    print(\"Your grade is 'C' \")\n",
    "else:\n",
    "    print(\"Yourn Grade is 'D' \")"
   ]
  },
  {
   "cell_type": "code",
   "execution_count": 63,
   "id": "17bc65b2",
   "metadata": {},
   "outputs": [
    {
     "name": "stdout",
     "output_type": "stream",
     "text": [
      "Enter Your 1st Number: 5\n",
      "Enter your 2nd Number: 12\n",
      "Enter Your 3rd Number: 45\n",
      "Maximum Number is :  45\n"
     ]
    }
   ],
   "source": [
    "a=int(input(\"Enter Your 1st Number: \"))\n",
    "b=int(input(\"Enter your 2nd Number: \"))\n",
    "c=int(input(\"Enter Your 3rd Number: \"))\n",
    "if a>b and a>c:\n",
    "    print(\"Maximum Number is :\",a)\n",
    "elif b>a and b>c:\n",
    "    print(\"Maximum Number is: \",b)\n",
    "else:\n",
    "    print(\"Maximum Number is : \",c)"
   ]
  },
  {
   "cell_type": "code",
   "execution_count": 69,
   "id": "02f0c630",
   "metadata": {},
   "outputs": [
    {
     "name": "stdout",
     "output_type": "stream",
     "text": [
      "Enter Your Number: 5\n",
      "Your Number is Positive\n"
     ]
    }
   ],
   "source": [
    "a=int(input(\"Enter Your Number: \"))\n",
    "if a>1:\n",
    "    print(\"Your Number is Positive\")\n",
    "elif a<1:\n",
    "    print(\"Your Number is Negative\")\n",
    "else:\n",
    "    print(\"Zero\")"
   ]
  },
  {
   "cell_type": "code",
   "execution_count": 71,
   "id": "21941964",
   "metadata": {},
   "outputs": [
    {
     "name": "stdout",
     "output_type": "stream",
     "text": [
      "Enter Your 1st Number: 5\n",
      "Enter Your 2nd Number: 4\n",
      "Enter Your 3rd Number: 3\n",
      "Middle Number is  4\n"
     ]
    }
   ],
   "source": [
    "a=int(input(\"Enter Your 1st Number: \"))\n",
    "b=int(input(\"Enter Your 2nd Number: \"))\n",
    "c=int(input(\"Enter Your 3rd Number: \"))\n",
    "if (a>b and a<c) or (a<b and a>c):\n",
    "    print(\"Middle Number is \",a)\n",
    "elif (b>a and b<c) or (b>c and b<a):\n",
    "    print(\"Middle Number is \",b)\n",
    "else:\n",
    "    print(\"Middle Number is \",c)"
   ]
  },
  {
   "cell_type": "code",
   "execution_count": null,
   "id": "79022cfb",
   "metadata": {},
   "outputs": [],
   "source": [
    "n=int(input(\"enter the number: \"))\n",
    "i=n\n",
    "while(i>=1):\n",
    "    print(i)\n",
    "    i=i-1"
   ]
  },
  {
   "cell_type": "code",
   "execution_count": null,
   "id": "1639b9d0",
   "metadata": {},
   "outputs": [],
   "source": [
    "n=int(input(\"enter the number: \"))\n",
    "i=0\n",
    "while(i<=n):\n",
    "    print(i)\n",
    "    i=i+1\n"
   ]
  },
  {
   "cell_type": "code",
   "execution_count": null,
   "id": "148ea19c",
   "metadata": {},
   "outputs": [],
   "source": [
    "# WAP  to find sum of even numbers from 1 to n ?\n",
    "\n",
    "\n",
    "a=int(input(\"Enter The value: \"))\n",
    "i=2\n",
    "sum =0\n",
    "while (i<=a):\n",
    "    sum=sum+i\n",
    "    i=i+2\n",
    "print(\"Your Sum of even Numbers is: \",sum)"
   ]
  },
  {
   "cell_type": "code",
   "execution_count": null,
   "id": "90d1b2ed",
   "metadata": {},
   "outputs": [],
   "source": [
    "n=int(input(\"Enter The value: \"))\n",
    "i=1\n",
    "sum=0\n",
    "while(i<=n):\n",
    "    sum=sum+i\n",
    "    i=i+1\n",
    "print(\"sum =\",sum)"
   ]
  },
  {
   "cell_type": "code",
   "execution_count": null,
   "id": "da581880",
   "metadata": {},
   "outputs": [],
   "source": [
    "n=int(input(\"Enter Your Number\"))  #WAP to find the sum of square from 1 to n.?\n",
    "sum=0\n",
    "i=1\n",
    "while(i<=n):\n",
    "    sum=sum+(i*i)\n",
    "    i=i+1\n",
    "print(\"Sum of sqaure \",sum)"
   ]
  },
  {
   "cell_type": "code",
   "execution_count": null,
   "id": "2a26400b",
   "metadata": {},
   "outputs": [],
   "source": [
    "#WAP to find the sum of cubes from 1 to n?\n",
    "\n",
    "n=int(input(\"Enter Your Number\"))\n",
    "sum=0\n",
    "i=1\n",
    "while(i<=n):\n",
    "    sum=sum+(i*i*i)\n",
    "    i=i+1\n",
    "print(\"sum of Cube \",sum)"
   ]
  },
  {
   "cell_type": "code",
   "execution_count": null,
   "id": "3963a008",
   "metadata": {},
   "outputs": [],
   "source": [
    "import random\n",
    "cpu=random.randint(1,100)\n",
    "while True:\n",
    "    guess=int(input(\"Enter Your Guess: \"))\n",
    "    if guess==cpu:\n",
    "        print(\"Congratulations, You Have gussed the Correct Number\")\n",
    "        break\n",
    "    elif guess>cpu:\n",
    "        print(\"Your Guess is Larger\")\n",
    "    elif guess<cpu:\n",
    "        print(\"Your Guess is Smaller\")\n",
    "    else:\n",
    "        print(\"Invalid Input\")"
   ]
  },
  {
   "cell_type": "code",
   "execution_count": null,
   "id": "3aa97f45",
   "metadata": {},
   "outputs": [],
   "source": [
    "import random\n",
    "cpu=random.randint(1,100)\n",
    "count=0\n",
    "while True:\n",
    "    guess=int(input(\"Enter Your Guess: \"))\n",
    "    if guess==cpu:\n",
    "        print(\"Congratulations, You Have gussed the Correct Number\")\n",
    "        break\n",
    "    elif guess>cpu:\n",
    "        print(\"Your Guess is Larger\")\n",
    "    elif guess<cpu:\n",
    "        print(\"Your Guess is Smaller\")\n",
    "    else:\n",
    "        print(\"Invalid Input\")\n",
    "    count+=1\n",
    "    if count==5:\n",
    "        print(\"You Lose the Game. The Number is \",cpu)"
   ]
  },
  {
   "cell_type": "code",
   "execution_count": null,
   "id": "22ea4d08",
   "metadata": {},
   "outputs": [],
   "source": []
  }
 ],
 "metadata": {
  "kernelspec": {
   "display_name": "Python 3",
   "language": "python",
   "name": "python3"
  },
  "language_info": {
   "codemirror_mode": {
    "name": "ipython",
    "version": 3
   },
   "file_extension": ".py",
   "mimetype": "text/x-python",
   "name": "python",
   "nbconvert_exporter": "python",
   "pygments_lexer": "ipython3",
   "version": "3.9.4"
  }
 },
 "nbformat": 4,
 "nbformat_minor": 5
}
