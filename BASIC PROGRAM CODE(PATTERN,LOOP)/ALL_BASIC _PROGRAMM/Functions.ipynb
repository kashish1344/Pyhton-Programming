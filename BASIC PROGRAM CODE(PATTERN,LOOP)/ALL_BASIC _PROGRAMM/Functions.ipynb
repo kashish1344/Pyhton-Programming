{
 "cells": [
  {
   "cell_type": "code",
   "execution_count": 10,
   "id": "266a882a",
   "metadata": {},
   "outputs": [
    {
     "name": "stdout",
     "output_type": "stream",
     "text": [
      "Hello Python\n"
     ]
    }
   ],
   "source": [
    "def message():\n",
    "    print('Hello Python')\n",
    "message()  "
   ]
  },
  {
   "cell_type": "code",
   "execution_count": 11,
   "id": "19326223",
   "metadata": {},
   "outputs": [
    {
     "name": "stdout",
     "output_type": "stream",
     "text": [
      "Addition :  11\n"
     ]
    }
   ],
   "source": [
    "def addition():\n",
    "    a=3\n",
    "    b=8\n",
    "    c=a+b\n",
    "    print(\"Addition : \",c)\n",
    "addition()"
   ]
  },
  {
   "cell_type": "code",
   "execution_count": 16,
   "id": "2cb1cf88",
   "metadata": {},
   "outputs": [
    {
     "name": "stdout",
     "output_type": "stream",
     "text": [
      "Addition of 11\n"
     ]
    }
   ],
   "source": [
    "def addition(a,b):\n",
    "    c=a+b\n",
    "    print(\"Addition of\",c)\n",
    "addition(5,6)"
   ]
  },
  {
   "cell_type": "code",
   "execution_count": 19,
   "id": "e07b1ff9",
   "metadata": {},
   "outputs": [
    {
     "name": "stdout",
     "output_type": "stream",
     "text": [
      "Enter Your First Number: 15\n",
      "Enter Your Second Number: 65\n",
      "Addition of 80\n"
     ]
    }
   ],
   "source": [
    "def addition(a,b):\n",
    "    c=a+b\n",
    "    print(\"Addition of\",c)\n",
    "a=int(input(\"Enter Your First Number: \"))     # WITH ARGUEMENTS\n",
    "b=int(input(\"Enter Your Second Number: \"))\n",
    "addition(a,b)"
   ]
  },
  {
   "cell_type": "code",
   "execution_count": 20,
   "id": "d9a652c8",
   "metadata": {},
   "outputs": [
    {
     "name": "stdout",
     "output_type": "stream",
     "text": [
      "Enter Your First Number: 55\n",
      "Enter Your Second Number: 65\n",
      "Addition of 120\n"
     ]
    }
   ],
   "source": [
    "def addition():\n",
    "    a=int(input(\"Enter Your First Number: \"))\n",
    "    b=int(input(\"Enter Your Second Number: \"))            # WITHOUT ARGUEMENTS\n",
    "    c=a+b\n",
    "    print(\"Addition of\",c)\n",
    "\n",
    "addition()"
   ]
  },
  {
   "cell_type": "code",
   "execution_count": 21,
   "id": "7a571d03",
   "metadata": {},
   "outputs": [
    {
     "name": "stdout",
     "output_type": "stream",
     "text": [
      "Enter Your First Number: 54\n",
      "Enter Your Second Number: 65\n",
      "Addition is  119\n"
     ]
    }
   ],
   "source": [
    "def addition():\n",
    "    a=int(input(\"Enter Your First Number: \"))\n",
    "    b=int(input(\"Enter Your Second Number: \"))            # WITHOUT ARGUEMENTS with return\n",
    "    c=a+b\n",
    "    return c\n",
    "x=addition()\n",
    "print(\"Addition is \",x)\n"
   ]
  },
  {
   "cell_type": "code",
   "execution_count": 22,
   "id": "f5320ab0",
   "metadata": {},
   "outputs": [
    {
     "name": "stdout",
     "output_type": "stream",
     "text": [
      "Enter Your First Number: 56\n",
      "Enter Your Second Number: 32\n",
      "Addition of 88\n"
     ]
    }
   ],
   "source": [
    "def addition(a,b):\n",
    "    c=a+b\n",
    "    return c\n",
    "a=int(input(\"Enter Your First Number: \"))     # WITH ARGUEMENTS\n",
    "b=int(input(\"Enter Your Second Number: \"))\n",
    "z=addition(a,b)\n",
    "print(\"Addition of\",z)"
   ]
  },
  {
   "cell_type": "code",
   "execution_count": null,
   "id": "2cce0b75",
   "metadata": {},
   "outputs": [],
   "source": []
  }
 ],
 "metadata": {
  "kernelspec": {
   "display_name": "Python 3",
   "language": "python",
   "name": "python3"
  },
  "language_info": {
   "codemirror_mode": {
    "name": "ipython",
    "version": 3
   },
   "file_extension": ".py",
   "mimetype": "text/x-python",
   "name": "python",
   "nbconvert_exporter": "python",
   "pygments_lexer": "ipython3",
   "version": "3.9.4"
  }
 },
 "nbformat": 4,
 "nbformat_minor": 5
}
