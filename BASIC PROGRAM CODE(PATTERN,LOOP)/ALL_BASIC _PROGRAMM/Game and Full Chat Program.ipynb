{
 "cells": [
  {
   "cell_type": "code",
   "execution_count": 10,
   "id": "7da86f0c",
   "metadata": {},
   "outputs": [
    {
     "name": "stdout",
     "output_type": "stream",
     "text": [
      "Enter Your Choice: paper\n",
      "Match Draw\n",
      "Enter Your Choice: stone\n",
      "I didnt Get You\n",
      "Enter Your Choice: scissor\n",
      "You Have Won and Your Score is  1\n",
      "Enter Your Choice: paper\n",
      "Match Draw\n",
      "Enter Your Choice: stone\n",
      "You Have Won and Your Score is  2\n",
      "You Lose your all Chances\n",
      "Final Score is: \n",
      "user 2 ,cpu 0 \n"
     ]
    }
   ],
   "source": [
    "\n",
    "import random\n",
    "chances=0\n",
    "game=True\n",
    "user_score=0\n",
    "cpu_score=0\n",
    "while game:\n",
    "    options=('paper', 'stone', 'scissor')\n",
    "    cpu=random.choice(options)\n",
    "    user=input(\"Enter Your Choice: \")\n",
    "    if cpu==user:\n",
    "        print('Match Draw')\n",
    "    elif user=='stone' and cpu=='scissor':\n",
    "        user_score+=1\n",
    "        print('You Have Won and Your Score is ',user_score)\n",
    "    elif user=='paper' and cpu=='Stone':\n",
    "        user_score+=1\n",
    "        print('You Have Won and Your Score is ',user_score)\n",
    "    elif user=='scissor' and cpu=='paper':\n",
    "        user_score+=1\n",
    "        print('You Have Won and Your Score is ',user_score)\n",
    "    elif cpu=='stone' and user=='scissor':\n",
    "        cpu_score+=1\n",
    "        print('you lose the game and Your Score is ',user_score)\n",
    "    elif cpu=='paper' and user=='Stone':\n",
    "        cpu_score+=1\n",
    "        print('you lose the game and Your Score is ',user_score)\n",
    "    elif cpu=='scissor' and user=='paper':\n",
    "        cpu_score+=1\n",
    "        print('you lose the game and Your Score is ',user_score)\n",
    "    else:\n",
    "        print('I didnt Get You')\n",
    "        \n",
    "    chances+=1\n",
    "    if chances==5:\n",
    "            print(\"You Lose your all Chances\")\n",
    "            break\n",
    "print('Final Score is: ')\n",
    "print(\"user {} ,cpu {} \".format(user_score, cpu_score))"
   ]
  },
  {
   "cell_type": "code",
   "execution_count": null,
   "id": "f96900c2",
   "metadata": {},
   "outputs": [
    {
     "name": "stdout",
     "output_type": "stream",
     "text": [
      "Enter Your Message: show songs\n",
      "0 : Asees Kaur,Badshah,Jubin Nautiyal, - Akh Lad Jaave - Loveratri-(Mr-Song.Com).mp3\n",
      "1 : Jolly LLB 2 (2017) - Jubin Nautiyal, Neeti Mohan - Bawara Mann [MS].mp3\n",
      "2 : Jubin - Habibi Albi.mp3\n",
      "3 : Jubin - Slowly.mp3\n",
      "Enter The Songs Number You Want To Play1\n",
      "Playing:  Jolly LLB 2 (2017) - Jubin Nautiyal, Neeti Mohan - Bawara Mann [MS].mp3\n"
     ]
    }
   ],
   "source": [
    "import os\n",
    "import random\n",
    "from datetime import datetime as dt\n",
    "dt.now()\n",
    "Chat=True\n",
    "while Chat:\n",
    "    msg=input(\"Enter Your Message: \")\n",
    "    if msg=='hello' or msg=='hi' or msg=='hey':\n",
    "        print(\"Hello User\")\n",
    "    elif msg=='play music' or msg=='play song':\n",
    "        os.chdir(r'C:\\Users\\himan\\Downloads\\Music')\n",
    "        songs=os.listdir()\n",
    "        song=random.choice(songs)\n",
    "        print(\"Playing: \",song)\n",
    "        os.startfile(song)\n",
    "    elif msg=='show songs':\n",
    "        os.chdir(r'C:\\Users\\himan\\Downloads\\Music')\n",
    "        songs=os.listdir()\n",
    "        for i in range(len(songs)):\n",
    "            print(i,\":\",songs[i])\n",
    "        index=int(input(\"Enter The Songs Number You Want To Play\"))\n",
    "        song=songs[index]\n",
    "        print(\"Playing: \",song)\n",
    "        os.startfile(song)       \n",
    "    elif msg=='date':\n",
    "        d=dt.now().date()\n",
    "        print(d.strftime('%d/%m/%y,%A'))\n",
    "    elif msg=='time':\n",
    "        d=dt.now().time()\n",
    "        print(d.strftime('%H-%M-%S,%p'))\n",
    "    elif msg=='bye':\n",
    "        print('Bye User')\n",
    "    else:\n",
    "        print(' Invalid Input')"
   ]
  },
  {
   "cell_type": "code",
   "execution_count": null,
   "id": "e72db738",
   "metadata": {},
   "outputs": [],
   "source": []
  }
 ],
 "metadata": {
  "kernelspec": {
   "display_name": "Python 3",
   "language": "python",
   "name": "python3"
  },
  "language_info": {
   "codemirror_mode": {
    "name": "ipython",
    "version": 3
   },
   "file_extension": ".py",
   "mimetype": "text/x-python",
   "name": "python",
   "nbconvert_exporter": "python",
   "pygments_lexer": "ipython3",
   "version": "3.9.4"
  }
 },
 "nbformat": 4,
 "nbformat_minor": 5
}
