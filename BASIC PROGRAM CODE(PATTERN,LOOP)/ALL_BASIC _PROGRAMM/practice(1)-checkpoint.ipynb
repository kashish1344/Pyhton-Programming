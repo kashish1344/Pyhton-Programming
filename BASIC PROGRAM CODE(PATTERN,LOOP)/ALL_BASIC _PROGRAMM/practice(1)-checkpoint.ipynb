{
 "cells": [
  {
   "cell_type": "code",
   "execution_count": 3,
   "id": "82012edb",
   "metadata": {},
   "outputs": [
    {
     "name": "stdout",
     "output_type": "stream",
     "text": [
      "8\n"
     ]
    }
   ],
   "source": [
    "a=4\n",
    "b=4\n",
    "c=a+b\n",
    "print(c)"
   ]
  },
  {
   "cell_type": "code",
   "execution_count": 6,
   "id": "05dc5b9a",
   "metadata": {},
   "outputs": [
    {
     "name": "stdout",
     "output_type": "stream",
     "text": [
      "Enter 1st Number: 9\n",
      "Enter 2nd Number: 9\n",
      "sum of 9 and 9 is 18\n"
     ]
    }
   ],
   "source": [
    "a=int(input(\"Enter 1st Number: \"))\n",
    "b=int(input(\"Enter 2nd Number: \"))\n",
    "c=a+b\n",
    "print('sum of {} and {} is {}'.format(a, b, c))"
   ]
  },
  {
   "cell_type": "code",
   "execution_count": 19,
   "id": "fe330759",
   "metadata": {},
   "outputs": [
    {
     "name": "stdout",
     "output_type": "stream",
     "text": [
      "Enter 1st Number: 7\n",
      "Enter 2nd Number: 7\n",
      "{14}\n"
     ]
    }
   ],
   "source": [
    "a=int(input(\"Enter 1st Number: \"))\n",
    "b=int(input(\"Enter 2nd Number: \"))\n",
    "print({(c:=a+b)})"
   ]
  },
  {
   "cell_type": "code",
   "execution_count": 21,
   "id": "eb15f748",
   "metadata": {},
   "outputs": [
    {
     "name": "stdout",
     "output_type": "stream",
     "text": [
      "Enter !st Number: 9\n",
      "Enter Your 2nd Number: 9\n",
      "\n",
      "(1) Sum is 18\n",
      "(2) Sub is 0\n",
      "(3) Div is 1.0\n",
      "\n"
     ]
    }
   ],
   "source": [
    "a=int(input(\"Enter !st Number: \"))\n",
    "b=int(input(\"Enter Your 2nd Number: \"))\n",
    "print(f'''\n",
    "(1) Sum is {(c:=a+b)}\n",
    "(2) Sub is {(c:=a-b)}\n",
    "(3) Div is {(c:=a/b)}\n",
    "''')"
   ]
  },
  {
   "cell_type": "code",
   "execution_count": 24,
   "id": "f26947d2",
   "metadata": {},
   "outputs": [
    {
     "name": "stdout",
     "output_type": "stream",
     "text": [
      "0\n",
      "1\n",
      "2\n",
      "3\n",
      "4\n",
      "5\n",
      "6\n",
      "7\n",
      "8\n",
      "9\n",
      "10\n"
     ]
    }
   ],
   "source": [
    "for i in range(11):\n",
    "    print(i)"
   ]
  },
  {
   "cell_type": "code",
   "execution_count": 29,
   "id": "c326ffc1",
   "metadata": {},
   "outputs": [
    {
     "name": "stdout",
     "output_type": "stream",
     "text": [
      "Enter The Value To Show Table5\n",
      "5 x 1 = 5\n",
      "5 x 2 = 10\n",
      "5 x 3 = 15\n",
      "5 x 4 = 20\n",
      "5 x 5 = 25\n",
      "5 x 6 = 30\n",
      "5 x 7 = 35\n",
      "5 x 8 = 40\n",
      "5 x 9 = 45\n",
      "5 x 10 = 50\n"
     ]
    }
   ],
   "source": [
    "a=int(input(\"Enter The Value To Show Table\"))\n",
    "for i in range(1,11):\n",
    "    print('{} x {} = {}'.format(a, i, a*i))"
   ]
  },
  {
   "cell_type": "code",
   "execution_count": 30,
   "id": "749c2c7a",
   "metadata": {},
   "outputs": [
    {
     "name": "stdout",
     "output_type": "stream",
     "text": [
      "*****\n",
      "*****\n",
      "*****\n",
      "*****\n",
      "*****\n"
     ]
    }
   ],
   "source": [
    "for i in range(5):\n",
    "    for j in range(5):\n",
    "        print('*',end='')\n",
    "    print()"
   ]
  },
  {
   "cell_type": "code",
   "execution_count": 55,
   "id": "e100109c",
   "metadata": {},
   "outputs": [
    {
     "name": "stdout",
     "output_type": "stream",
     "text": [
      "00000\n",
      "11111\n",
      "22222\n",
      "33333\n",
      "44444\n"
     ]
    }
   ],
   "source": [
    "for i in range(5):\n",
    "    for j in range(5):\n",
    "        print(i,end='')\n",
    "    print()\n",
    "        "
   ]
  },
  {
   "cell_type": "code",
   "execution_count": 34,
   "id": "9921062a",
   "metadata": {},
   "outputs": [
    {
     "name": "stdout",
     "output_type": "stream",
     "text": [
      "01234\n",
      "01234\n",
      "01234\n",
      "01234\n",
      "01234\n"
     ]
    }
   ],
   "source": [
    "for i in range(5):\n",
    "    for j in range(5):\n",
    "        print(j,end='')\n",
    "    print()"
   ]
  },
  {
   "cell_type": "code",
   "execution_count": 36,
   "id": "2fc7cc9d",
   "metadata": {},
   "outputs": [
    {
     "name": "stdout",
     "output_type": "stream",
     "text": [
      "11111\n",
      "22222\n",
      "33333\n",
      "44444\n",
      "55555\n"
     ]
    }
   ],
   "source": [
    "for i in range(5):\n",
    "    for j in range(5):\n",
    "        print(i+1,end='')\n",
    "    print()"
   ]
  },
  {
   "cell_type": "code",
   "execution_count": 62,
   "id": "bff211ec",
   "metadata": {},
   "outputs": [
    {
     "name": "stdout",
     "output_type": "stream",
     "text": [
      "0123456789\n",
      "012345678\n",
      "01234567\n",
      "0123456\n",
      "012345\n",
      "01234\n",
      "0123\n",
      "012\n",
      "01\n",
      "0\n",
      "\n"
     ]
    }
   ],
   "source": [
    "for i in range(11):\n",
    "    for j in range(10-i):\n",
    "        print(j,end='')\n",
    "    print()"
   ]
  },
  {
   "cell_type": "code",
   "execution_count": 52,
   "id": "de02fe28",
   "metadata": {},
   "outputs": [
    {
     "name": "stdout",
     "output_type": "stream",
     "text": [
      "0 \n",
      "0 1 \n",
      "0 1 2 \n",
      "0 1 2 3 \n",
      "0 1 2 3 4 \n"
     ]
    }
   ],
   "source": [
    "for i in range(5):\n",
    "    for j in range(i+1):\n",
    "        print(j, end=\" \")\n",
    "    print()"
   ]
  },
  {
   "cell_type": "code",
   "execution_count": 54,
   "id": "b3812715",
   "metadata": {},
   "outputs": [
    {
     "name": "stdout",
     "output_type": "stream",
     "text": [
      "*\n",
      "**\n",
      "***\n",
      "****\n",
      "*****\n",
      "******\n",
      "*******\n",
      "********\n",
      "*********\n",
      "**********\n"
     ]
    }
   ],
   "source": [
    "for i in range(10):\n",
    "    for j in range(i+1):\n",
    "        print('*',end=\"\")\n",
    "    print()"
   ]
  },
  {
   "cell_type": "code",
   "execution_count": 57,
   "id": "326c1342",
   "metadata": {},
   "outputs": [
    {
     "name": "stdout",
     "output_type": "stream",
     "text": [
      "0\n",
      "11\n",
      "222\n",
      "3333\n",
      "44444\n",
      "555555\n",
      "6666666\n",
      "77777777\n",
      "888888888\n",
      "9999999999\n"
     ]
    }
   ],
   "source": [
    "for i in range(10):\n",
    "    for j in range(i+1):\n",
    "        print(i,end='')\n",
    "    print()"
   ]
  },
  {
   "cell_type": "code",
   "execution_count": 58,
   "id": "7c4906da",
   "metadata": {},
   "outputs": [
    {
     "name": "stdout",
     "output_type": "stream",
     "text": [
      "**********\n",
      "*********\n",
      "********\n",
      "*******\n",
      "******\n",
      "*****\n",
      "****\n",
      "***\n",
      "**\n",
      "*\n"
     ]
    }
   ],
   "source": [
    "for i in range(10):\n",
    "    for j in range(10-i):\n",
    "        print('*',end=\"\")\n",
    "    print()"
   ]
  },
  {
   "cell_type": "code",
   "execution_count": 100,
   "id": "e48779e5",
   "metadata": {},
   "outputs": [
    {
     "name": "stdout",
     "output_type": "stream",
     "text": [
      "          1 \n",
      "         1 2 \n",
      "        1 2 3 \n",
      "       1 2 3 4 \n",
      "      1 2 3 4 5 \n",
      "     1 2 3 4 5 6 \n",
      "    1 2 3 4 5 6 7 \n",
      "   1 2 3 4 5 6 7 8 \n",
      "  1 2 3 4 5 6 7 8 9 \n",
      " 1 2 3 4 5 6 7 8 9 10 \n"
     ]
    }
   ],
   "source": [
    "k=0\n",
    "for i in range(10):\n",
    "    for j in range(10-i):\n",
    "        print(' ',end='')\n",
    "    for a in range(i+1):\n",
    "        a+=1\n",
    "        print(a,end=' ')\n",
    "    print()"
   ]
  },
  {
   "cell_type": "markdown",
   "id": "7c079572",
   "metadata": {},
   "source": []
  },
  {
   "cell_type": "code",
   "execution_count": 103,
   "id": "056f4a1e",
   "metadata": {},
   "outputs": [
    {
     "name": "stdout",
     "output_type": "stream",
     "text": [
      " 1 2 3 4 5 6 7 8 9 \n",
      "  1 2 3 4 5 6 7 8 \n",
      "   1 2 3 4 5 6 7 \n",
      "    1 2 3 4 5 6 \n",
      "     1 2 3 4 5 \n",
      "      1 2 3 4 \n",
      "       1 2 3 \n",
      "        1 2 \n",
      "         1 \n",
      "          \n"
     ]
    }
   ],
   "source": [
    "k=0\n",
    "for i in range(10):\n",
    "    for j in range(i+1):\n",
    "        print(' ',end='')\n",
    "    for a in range(1,10-i):\n",
    "        k+=1\n",
    "        print(a,end=' ')\n",
    "    print()"
   ]
  },
  {
   "cell_type": "code",
   "execution_count": 106,
   "id": "cc5ab0e7",
   "metadata": {},
   "outputs": [
    {
     "name": "stdout",
     "output_type": "stream",
     "text": [
      "a \n",
      "b b \n",
      "c c c \n",
      "d d d d \n",
      "e e e e e \n",
      "f f f f f f \n",
      "g g g g g g g \n",
      "h h h h h h h h \n",
      "i i i i i i i i i \n",
      "j j j j j j j j j j \n",
      "k k k k k k k k k k k \n"
     ]
    }
   ],
   "source": [
    "for i in range(11):\n",
    "    for j in range(i+1):\n",
    "        print(chr(97+i),end=' ')\n",
    "    print()"
   ]
  },
  {
   "cell_type": "code",
   "execution_count": 107,
   "id": "31099f19",
   "metadata": {},
   "outputs": [
    {
     "name": "stdout",
     "output_type": "stream",
     "text": [
      "a \n",
      "a b \n",
      "a b c \n",
      "a b c d \n",
      "a b c d e \n",
      "a b c d e f \n",
      "a b c d e f g \n",
      "a b c d e f g h \n",
      "a b c d e f g h i \n",
      "a b c d e f g h i j \n",
      "a b c d e f g h i j k \n"
     ]
    }
   ],
   "source": [
    "for i in range(11):\n",
    "    for j in range(i+1):\n",
    "        print(chr(97+j),end=' ')\n",
    "    print()"
   ]
  },
  {
   "cell_type": "code",
   "execution_count": 110,
   "id": "350b2ffd",
   "metadata": {},
   "outputs": [
    {
     "name": "stdout",
     "output_type": "stream",
     "text": [
      "          a \n",
      "         b b \n",
      "        c c c \n",
      "       d d d d \n",
      "      e e e e e \n",
      "     f f f f f f \n",
      "    g g g g g g g \n",
      "   h h h h h h h h \n",
      "  i i i i i i i i i \n",
      " j j j j j j j j j j \n",
      "k k k k k k k k k k k \n"
     ]
    }
   ],
   "source": [
    "k=0\n",
    "for i in range(11):\n",
    "    for j in range(10-i):\n",
    "        print(' ',end='')\n",
    "    for a in range(i+1):\n",
    "        k+=1\n",
    "        print(chr(97+i),end=' ')\n",
    "    print()\n",
    "        \n",
    "        "
   ]
  },
  {
   "cell_type": "code",
   "execution_count": 180,
   "id": "f636e25b",
   "metadata": {},
   "outputs": [
    {
     "name": "stdout",
     "output_type": "stream",
     "text": [
      "          a \n",
      "         b b b \n",
      "        c c c c c \n",
      "       d d d d d d d \n",
      "      e e e e e e e e e \n"
     ]
    }
   ],
   "source": [
    "k=0\n",
    "for i in range(5):\n",
    "    for j in range(10-i):\n",
    "        print(' ',end='')\n",
    "    for a in range(2*i+1):\n",
    "        k+=1\n",
    "        print(chr(97+i),end=' ')\n",
    "    print()"
   ]
  },
  {
   "cell_type": "code",
   "execution_count": 190,
   "id": "f5a96a73",
   "metadata": {},
   "outputs": [
    {
     "name": "stdout",
     "output_type": "stream",
     "text": [
      " * * * * * * * * * \n",
      "  * * * * * * * * \n",
      "   * * * * * * * \n",
      "    * * * * * * \n",
      "     * * * * * \n",
      "      * * * * \n",
      "       * * * \n",
      "        * * \n",
      "         * \n",
      "          \n"
     ]
    }
   ],
   "source": [
    "k=0\n",
    "for i in range(10):\n",
    "    for j in range(i+1):\n",
    "        print(' ',end='')\n",
    "    for a in range(1,10-i):\n",
    "        k+=1\n",
    "        print('*', end=' ')\n",
    "    print()"
   ]
  },
  {
   "cell_type": "code",
   "execution_count": 188,
   "id": "3b3c3e46",
   "metadata": {},
   "outputs": [
    {
     "name": "stdout",
     "output_type": "stream",
     "text": [
      "**********\n",
      " *********\n",
      "  ********\n",
      "   *******\n",
      "    ******\n",
      "     *****\n",
      "      ****\n",
      "       ***\n",
      "        **\n",
      "         *\n"
     ]
    }
   ],
   "source": [
    "for i in  range(10):\n",
    "    for j in range(i):\n",
    "        print(' ',end='')\n",
    "    for k in range(10-i):\n",
    "        print('*',end=\"\")\n",
    "    print()"
   ]
  },
  {
   "cell_type": "code",
   "execution_count": null,
   "id": "66fecae2",
   "metadata": {},
   "outputs": [],
   "source": []
  }
 ],
 "metadata": {
  "kernelspec": {
   "display_name": "Python 3",
   "language": "python",
   "name": "python3"
  },
  "language_info": {
   "codemirror_mode": {
    "name": "ipython",
    "version": 3
   },
   "file_extension": ".py",
   "mimetype": "text/x-python",
   "name": "python",
   "nbconvert_exporter": "python",
   "pygments_lexer": "ipython3",
   "version": "3.9.4"
  }
 },
 "nbformat": 4,
 "nbformat_minor": 5
}
