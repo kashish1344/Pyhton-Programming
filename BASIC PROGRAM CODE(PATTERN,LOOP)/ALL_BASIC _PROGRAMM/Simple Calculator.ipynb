{
 "cells": [
  {
   "cell_type": "code",
   "execution_count": 5,
   "id": "c01e439e",
   "metadata": {},
   "outputs": [
    {
     "name": "stdout",
     "output_type": "stream",
     "text": [
      "Enter Your 1st Number: 55\n",
      "Enter your 2nd Number: 64\n",
      "\n",
      "1. Addition\n",
      "2. Subtraction\n",
      "3. Multiplication\n",
      "4. Division\n",
      "\n",
      "\n",
      "Enter Your Choice: 1\n",
      "\n",
      "119\n"
     ]
    }
   ],
   "source": [
    "a=int(input(\"Enter Your 1st Number: \"))\n",
    "b=int(input(\"Enter your 2nd Number: \"))\n",
    "\n",
    "print('''\n",
    "1. Addition\n",
    "2. Subtraction\n",
    "3. Multiplication\n",
    "4. Division\n",
    "\n",
    "''')\n",
    "\n",
    "ch =int(input(\"Enter Your Choice: \"))\n",
    "print()\n",
    "if ch==1:\n",
    "    result=a+b\n",
    "    print(result)\n",
    "elif ch==2:\n",
    "    result==a-b\n",
    "    print(result)\n",
    "elif ch==3:\n",
    "    result=a*b\n",
    "    print(result)\n",
    "elif ch==4:\n",
    "    result=a/b\n",
    "    print(result)\n",
    "else:\n",
    "    print(\"Invalid Input\")"
   ]
  },
  {
   "cell_type": "code",
   "execution_count": null,
   "id": "406bf847",
   "metadata": {},
   "outputs": [],
   "source": []
  }
 ],
 "metadata": {
  "kernelspec": {
   "display_name": "Python 3",
   "language": "python",
   "name": "python3"
  },
  "language_info": {
   "codemirror_mode": {
    "name": "ipython",
    "version": 3
   },
   "file_extension": ".py",
   "mimetype": "text/x-python",
   "name": "python",
   "nbconvert_exporter": "python",
   "pygments_lexer": "ipython3",
   "version": "3.9.4"
  }
 },
 "nbformat": 4,
 "nbformat_minor": 5
}
