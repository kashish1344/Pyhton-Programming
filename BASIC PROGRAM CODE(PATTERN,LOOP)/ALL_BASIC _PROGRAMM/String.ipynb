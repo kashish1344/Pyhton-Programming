{
 "cells": [
  {
   "cell_type": "code",
   "execution_count": 2,
   "id": "9ea8fda7",
   "metadata": {},
   "outputs": [
    {
     "name": "stdout",
     "output_type": "stream",
     "text": [
      "Enter Your Name: kashish'\n",
      "Length of the string is  8\n"
     ]
    }
   ],
   "source": [
    "a=input(\"Enter Your Name: \")\n",
    "print(\"Length of the string is \",len(a))"
   ]
  },
  {
   "cell_type": "code",
   "execution_count": 7,
   "id": "8b731172",
   "metadata": {},
   "outputs": [
    {
     "name": "stdout",
     "output_type": "stream",
     "text": [
      "Enter Your Name: kashish\n",
      "k\n",
      "a\n",
      "s\n",
      "h\n",
      "i\n",
      "s\n",
      "h\n"
     ]
    }
   ],
   "source": [
    "a=input(\"Enter Your Name: \")\n",
    "for i in range(0,len(a)):\n",
    "    print(a[i])\n",
    "    "
   ]
  },
  {
   "cell_type": "code",
   "execution_count": 8,
   "id": "ecd59be0",
   "metadata": {},
   "outputs": [
    {
     "name": "stdout",
     "output_type": "stream",
     "text": [
      "Enter Your Name: Kashish Saini\n",
      "Kashish Saini"
     ]
    }
   ],
   "source": [
    "a=input(\"Enter Your Name: \")\n",
    "for i in range(0,len(a)):\n",
    "    print(a[i],end='')"
   ]
  },
  {
   "cell_type": "code",
   "execution_count": 11,
   "id": "65701bab",
   "metadata": {},
   "outputs": [
    {
     "data": {
      "text/plain": [
       "'gnimmargorp nohtyp si siht,dlrow olleh'"
      ]
     },
     "execution_count": 11,
     "metadata": {},
     "output_type": "execute_result"
    }
   ],
   "source": [
    "#reverse of a text\n",
    "\n",
    "text='hello world,this is python programming'\n",
    "len(text)\n",
    "text[::-1]"
   ]
  },
  {
   "cell_type": "code",
   "execution_count": 12,
   "id": "aa8bfbbe",
   "metadata": {},
   "outputs": [
    {
     "data": {
      "text/plain": [
       "'hello'"
      ]
     },
     "execution_count": 12,
     "metadata": {},
     "output_type": "execute_result"
    }
   ],
   "source": [
    "text='hello world,this is python programming'\n",
    "text[0:5]"
   ]
  },
  {
   "cell_type": "code",
   "execution_count": 13,
   "id": "948a1533",
   "metadata": {},
   "outputs": [
    {
     "data": {
      "text/plain": [
       "' world,this is '"
      ]
     },
     "execution_count": 13,
     "metadata": {},
     "output_type": "execute_result"
    }
   ],
   "source": [
    "text='hello world,this is python programming'\n",
    "text[5:20]"
   ]
  },
  {
   "cell_type": "code",
   "execution_count": 14,
   "id": "098432b9",
   "metadata": {},
   "outputs": [
    {
     "data": {
      "text/plain": [
       "'HELLO WORLD,THIS IS PYTHON PROGRAMMING'"
      ]
     },
     "execution_count": 14,
     "metadata": {},
     "output_type": "execute_result"
    }
   ],
   "source": [
    "text='hello world,this is python programming'\n",
    "text.upper()"
   ]
  },
  {
   "cell_type": "code",
   "execution_count": 15,
   "id": "db6480b9",
   "metadata": {},
   "outputs": [
    {
     "data": {
      "text/plain": [
       "'hello world,this is python programming'"
      ]
     },
     "execution_count": 15,
     "metadata": {},
     "output_type": "execute_result"
    }
   ],
   "source": [
    "text='hello world,this is python programming'\n",
    "text.lower()"
   ]
  },
  {
   "cell_type": "code",
   "execution_count": 16,
   "id": "3c1f3753",
   "metadata": {},
   "outputs": [
    {
     "data": {
      "text/plain": [
       "'Hello world,this is python programming'"
      ]
     },
     "execution_count": 16,
     "metadata": {},
     "output_type": "execute_result"
    }
   ],
   "source": [
    "text='hello world,this is python programming'\n",
    "text.capitalize()"
   ]
  },
  {
   "cell_type": "code",
   "execution_count": 18,
   "id": "ac43892d",
   "metadata": {},
   "outputs": [
    {
     "data": {
      "text/plain": [
       "'Hello World,This Is Python Programming'"
      ]
     },
     "execution_count": 18,
     "metadata": {},
     "output_type": "execute_result"
    }
   ],
   "source": [
    "text='hello world,this is python programming'\n",
    "text.title()"
   ]
  },
  {
   "cell_type": "code",
   "execution_count": 19,
   "id": "9e24ab58",
   "metadata": {},
   "outputs": [
    {
     "data": {
      "text/plain": [
       "'HELLO WORLD,THIS IS PYTHON PROGRAMMING'"
      ]
     },
     "execution_count": 19,
     "metadata": {},
     "output_type": "execute_result"
    }
   ],
   "source": [
    "text='hello world,this is python programming'\n",
    "text.swapcase()"
   ]
  },
  {
   "cell_type": "code",
   "execution_count": 20,
   "id": "16e77a41",
   "metadata": {},
   "outputs": [
    {
     "data": {
      "text/plain": [
       "3"
      ]
     },
     "execution_count": 20,
     "metadata": {},
     "output_type": "execute_result"
    }
   ],
   "source": [
    "text='hello world,this is python programming'\n",
    "text.count('i')"
   ]
  },
  {
   "cell_type": "code",
   "execution_count": 21,
   "id": "81ce0f8d",
   "metadata": {},
   "outputs": [
    {
     "data": {
      "text/plain": [
       "1"
      ]
     },
     "execution_count": 21,
     "metadata": {},
     "output_type": "execute_result"
    }
   ],
   "source": [
    "text='hello world,this is python programming'\n",
    "text.count('y')"
   ]
  },
  {
   "cell_type": "code",
   "execution_count": 22,
   "id": "59d652a4",
   "metadata": {},
   "outputs": [
    {
     "data": {
      "text/plain": [
       "2"
      ]
     },
     "execution_count": 22,
     "metadata": {},
     "output_type": "execute_result"
    }
   ],
   "source": [
    "text='hello world,this is python programming'\n",
    "text.count('i',5,25)"
   ]
  },
  {
   "cell_type": "code",
   "execution_count": 23,
   "id": "585c14a3",
   "metadata": {},
   "outputs": [
    {
     "data": {
      "text/plain": [
       "4"
      ]
     },
     "execution_count": 23,
     "metadata": {},
     "output_type": "execute_result"
    }
   ],
   "source": [
    "text='hello world,this is python programming'\n",
    "text.find('o')"
   ]
  },
  {
   "cell_type": "code",
   "execution_count": 24,
   "id": "e9c48e35",
   "metadata": {},
   "outputs": [
    {
     "data": {
      "text/plain": [
       "7"
      ]
     },
     "execution_count": 24,
     "metadata": {},
     "output_type": "execute_result"
    }
   ],
   "source": [
    "text='hello world,this is python programming'\n",
    "text.find('o',5)"
   ]
  },
  {
   "cell_type": "code",
   "execution_count": 25,
   "id": "a2a7ad25",
   "metadata": {},
   "outputs": [
    {
     "data": {
      "text/plain": [
       "4"
      ]
     },
     "execution_count": 25,
     "metadata": {},
     "output_type": "execute_result"
    }
   ],
   "source": [
    "text.index('o')"
   ]
  },
  {
   "cell_type": "code",
   "execution_count": 26,
   "id": "1c25fe0b",
   "metadata": {},
   "outputs": [
    {
     "data": {
      "text/plain": [
       "7"
      ]
     },
     "execution_count": 26,
     "metadata": {},
     "output_type": "execute_result"
    }
   ],
   "source": [
    "text.index('o',5,25)"
   ]
  },
  {
   "cell_type": "code",
   "execution_count": 27,
   "id": "ba83023e",
   "metadata": {},
   "outputs": [
    {
     "data": {
      "text/plain": [
       "29"
      ]
     },
     "execution_count": 27,
     "metadata": {},
     "output_type": "execute_result"
    }
   ],
   "source": [
    "text.rfind('o')"
   ]
  },
  {
   "cell_type": "code",
   "execution_count": 28,
   "id": "95acc133",
   "metadata": {},
   "outputs": [
    {
     "data": {
      "text/plain": [
       "'heppo worpd,this is python programming'"
      ]
     },
     "execution_count": 28,
     "metadata": {},
     "output_type": "execute_result"
    }
   ],
   "source": [
    "text.replace('l' ,'p')"
   ]
  },
  {
   "cell_type": "code",
   "execution_count": 29,
   "id": "7438179f",
   "metadata": {},
   "outputs": [
    {
     "data": {
      "text/plain": [
       "['hello', 'world,this', 'is', 'python', 'programming']"
      ]
     },
     "execution_count": 29,
     "metadata": {},
     "output_type": "execute_result"
    }
   ],
   "source": [
    "text.split()"
   ]
  },
  {
   "cell_type": "code",
   "execution_count": 31,
   "id": "48967070",
   "metadata": {},
   "outputs": [
    {
     "data": {
      "text/plain": [
       "['hello world', 'this is python programming']"
      ]
     },
     "execution_count": 31,
     "metadata": {},
     "output_type": "execute_result"
    }
   ],
   "source": [
    "text.split(',')"
   ]
  },
  {
   "cell_type": "code",
   "execution_count": 37,
   "id": "d138377b",
   "metadata": {},
   "outputs": [
    {
     "data": {
      "text/plain": [
       "['hello', 'world,this', 'is', 'python', 'programming']"
      ]
     },
     "execution_count": 37,
     "metadata": {},
     "output_type": "execute_result"
    }
   ],
   "source": [
    "text.split()"
   ]
  },
  {
   "cell_type": "code",
   "execution_count": 38,
   "id": "15155bf7",
   "metadata": {},
   "outputs": [
    {
     "data": {
      "text/plain": [
       "'hello world,this is python programming'"
      ]
     },
     "execution_count": 38,
     "metadata": {},
     "output_type": "execute_result"
    }
   ],
   "source": [
    "text='     hello world,this is python programming    ' \n",
    "text.strip()"
   ]
  },
  {
   "cell_type": "code",
   "execution_count": 40,
   "id": "ba70ac37",
   "metadata": {},
   "outputs": [
    {
     "data": {
      "text/plain": [
       "'hello world,this is python programming@@@@'"
      ]
     },
     "execution_count": 40,
     "metadata": {},
     "output_type": "execute_result"
    }
   ],
   "source": [
    "text='####hello world,this is python programming@@@@' \n",
    "text.lstrip('#')"
   ]
  },
  {
   "cell_type": "code",
   "execution_count": 42,
   "id": "53a9da7d",
   "metadata": {},
   "outputs": [
    {
     "data": {
      "text/plain": [
       "'####hello world,this is python programming'"
      ]
     },
     "execution_count": 42,
     "metadata": {},
     "output_type": "execute_result"
    }
   ],
   "source": [
    "text='####hello world,this is python programming@@@@' \n",
    "text.rstrip('@')"
   ]
  },
  {
   "cell_type": "code",
   "execution_count": 45,
   "id": "71f3203c",
   "metadata": {},
   "outputs": [
    {
     "data": {
      "text/plain": [
       "'#hello world,this is python programming#'"
      ]
     },
     "execution_count": 45,
     "metadata": {},
     "output_type": "execute_result"
    }
   ],
   "source": [
    "text='hello world,this is python programming'\n",
    "text.center(40,'#')"
   ]
  },
  {
   "cell_type": "code",
   "execution_count": 46,
   "id": "0c712c27",
   "metadata": {},
   "outputs": [
    {
     "data": {
      "text/plain": [
       "'##########hello world,this is python programming##########'"
      ]
     },
     "execution_count": 46,
     "metadata": {},
     "output_type": "execute_result"
    }
   ],
   "source": [
    "text='hello world,this is python programming'\n",
    "text.center(58,'#')"
   ]
  },
  {
   "cell_type": "code",
   "execution_count": 47,
   "id": "7da8a8ad",
   "metadata": {},
   "outputs": [
    {
     "data": {
      "text/plain": [
       "False"
      ]
     },
     "execution_count": 47,
     "metadata": {},
     "output_type": "execute_result"
    }
   ],
   "source": [
    "text.endswith('i')"
   ]
  },
  {
   "cell_type": "code",
   "execution_count": 48,
   "id": "45e48380",
   "metadata": {},
   "outputs": [
    {
     "data": {
      "text/plain": [
       "True"
      ]
     },
     "execution_count": 48,
     "metadata": {},
     "output_type": "execute_result"
    }
   ],
   "source": [
    "text.endswith('g')"
   ]
  },
  {
   "cell_type": "code",
   "execution_count": 49,
   "id": "c7a69967",
   "metadata": {},
   "outputs": [
    {
     "data": {
      "text/plain": [
       "False"
      ]
     },
     "execution_count": 49,
     "metadata": {},
     "output_type": "execute_result"
    }
   ],
   "source": [
    "text.startswith('n')"
   ]
  },
  {
   "cell_type": "code",
   "execution_count": 50,
   "id": "65a59919",
   "metadata": {},
   "outputs": [
    {
     "data": {
      "text/plain": [
       "True"
      ]
     },
     "execution_count": 50,
     "metadata": {},
     "output_type": "execute_result"
    }
   ],
   "source": [
    "text.startswith('h')"
   ]
  },
  {
   "cell_type": "code",
   "execution_count": 51,
   "id": "2c834f8e",
   "metadata": {},
   "outputs": [
    {
     "data": {
      "text/plain": [
       "True"
      ]
     },
     "execution_count": 51,
     "metadata": {},
     "output_type": "execute_result"
    }
   ],
   "source": [
    "'h' in text"
   ]
  },
  {
   "cell_type": "code",
   "execution_count": 52,
   "id": "6fa9e6db",
   "metadata": {},
   "outputs": [
    {
     "data": {
      "text/plain": [
       "False"
      ]
     },
     "execution_count": 52,
     "metadata": {},
     "output_type": "execute_result"
    }
   ],
   "source": [
    "'q' in text\n"
   ]
  },
  {
   "cell_type": "code",
   "execution_count": 53,
   "id": "5f766e70",
   "metadata": {},
   "outputs": [
    {
     "data": {
      "text/plain": [
       "False"
      ]
     },
     "execution_count": 53,
     "metadata": {},
     "output_type": "execute_result"
    }
   ],
   "source": [
    "'h' not in text"
   ]
  },
  {
   "cell_type": "code",
   "execution_count": 54,
   "id": "4183f6a3",
   "metadata": {},
   "outputs": [
    {
     "data": {
      "text/plain": [
       "True"
      ]
     },
     "execution_count": 54,
     "metadata": {},
     "output_type": "execute_result"
    }
   ],
   "source": [
    "'q' not in text"
   ]
  },
  {
   "cell_type": "code",
   "execution_count": null,
   "id": "54b8833f",
   "metadata": {},
   "outputs": [],
   "source": []
  }
 ],
 "metadata": {
  "kernelspec": {
   "display_name": "Python 3",
   "language": "python",
   "name": "python3"
  },
  "language_info": {
   "codemirror_mode": {
    "name": "ipython",
    "version": 3
   },
   "file_extension": ".py",
   "mimetype": "text/x-python",
   "name": "python",
   "nbconvert_exporter": "python",
   "pygments_lexer": "ipython3",
   "version": "3.9.4"
  }
 },
 "nbformat": 4,
 "nbformat_minor": 5
}
