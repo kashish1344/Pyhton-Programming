{
 "cells": [
  {
   "cell_type": "code",
   "execution_count": 7,
   "id": "4177354b",
   "metadata": {},
   "outputs": [
    {
     "name": "stdout",
     "output_type": "stream",
     "text": [
      "{'an': '0', 'ap': '1', 'ar': '0', 'as': '0', 'br': '0', 'ch': '0', 'ct': '0', 'date': '14-Mar-20', 'dateymd': '2020-03-14', 'dd': '0', 'dl': '7', 'dn': '0', 'ga': '0', 'gj': '0', 'hp': '0', 'hr': '14', 'jh': '0', 'jk': '2', 'ka': '6', 'kl': '19', 'la': '0', 'ld': '0', 'mh': '14', 'ml': '0', 'mn': '0', 'mp': '0', 'mz': '0', 'nl': '0', 'or': '0', 'pb': '1', 'py': '0', 'rj': '3', 'sk': '0', 'status': 'Confirmed', 'tg': '1', 'tn': '1', 'tr': '0', 'tt': '81', 'un': '0', 'up': '12', 'ut': '0', 'wb': '0'}\n"
     ]
    }
   ],
   "source": [
    "import urllib.request as url\n",
    "import json\n",
    "res=url.urlopen('https://api.covid19india.org/states_daily.json')\n",
    "data=json.load(res)\n",
    "states=data['states_daily']\n",
    "print(states[0])"
   ]
  },
  {
   "cell_type": "code",
   "execution_count": 8,
   "id": "49293d7e",
   "metadata": {},
   "outputs": [
    {
     "name": "stdout",
     "output_type": "stream",
     "text": [
      "{'an': '1', 'ap': '85', 'ar': '0', 'as': '55', 'br': '61', 'ch': '14', 'ct': '253', 'date': '05-May-21', 'dateymd': '2021-05-05', 'dd': '0', 'dl': '311', 'dn': '0', 'ga': '71', 'gj': '133', 'hp': '32', 'hr': '181', 'jh': '141', 'jk': '52', 'ka': '346', 'kl': '58', 'la': '0', 'ld': '1', 'mh': '920', 'ml': '6', 'mn': '10', 'mp': '71', 'mz': '0', 'nl': '3', 'or': '16', 'pb': '180', 'py': '18', 'rj': '155', 'sk': '4', 'status': 'Deceased', 'tg': '51', 'tn': '167', 'tr': '0', 'tt': '3979', 'un': '0', 'up': '353', 'ut': '127', 'wb': '103'}\n"
     ]
    }
   ],
   "source": [
    "import urllib.request as url\n",
    "import json\n",
    "res=url.urlopen('https://api.covid19india.org/states_daily.json')\n",
    "data=json.load(res)\n",
    "states=data['states_daily']\n",
    "print(states[-1])"
   ]
  },
  {
   "cell_type": "code",
   "execution_count": 19,
   "id": "267e7305",
   "metadata": {},
   "outputs": [
    {
     "name": "stdout",
     "output_type": "stream",
     "text": [
      "India Total Confirmed Cases Till Date:  21070244\n",
      "India Total Recovered Cases Till Date:  17269037\n",
      "India Total Deceased Cases Till Date:  230155\n"
     ]
    }
   ],
   "source": [
    "import urllib.request as url\n",
    "import json\n",
    "res= url.urlopen('https://api.covid19india.org/states_daily.json')\n",
    "data= json.load(res)\n",
    "states=data[\"states_daily\"]\n",
    "\n",
    "conf_cases=[]\n",
    "for i in range(len(states)):\n",
    "    if states[i]['status'] == 'Confirmed':\n",
    "        conf_cases.append(states[i])\n",
    "\n",
    "recv_cases=[]\n",
    "for i in range(len(states)):\n",
    "    if states[i]['status'] == 'Recovered':\n",
    "        recv_cases.append(states[i])\n",
    "        \n",
    "dece_cases=[]\n",
    "for i in range(len(states)):\n",
    "    if states[i]['status'] == 'Deceased':\n",
    "        dece_cases.append(states[i])\n",
    "        \n",
    "sum = 0\n",
    "for i in range(len(conf_cases)):\n",
    "    sum+=int(conf_cases[i]['tt'])\n",
    "print(\"India Total Confirmed Cases Till Date: \",sum)\n",
    "    \n",
    "sum = 0\n",
    "for i in range(len(recv_cases)):\n",
    "    sum+=int(recv_cases[i]['tt'])\n",
    "print(\"India Total Recovered Cases Till Date: \",sum)\n",
    "    \n",
    "sum = 0\n",
    "for i in range(len(dece_cases)):\n",
    "    sum+=int(dece_cases[i]['tt'])\n",
    "    \n",
    "print(\"India Total Deceased Cases Till Date: \",sum)\n"
   ]
  },
  {
   "cell_type": "code",
   "execution_count": 22,
   "id": "e9d5db41",
   "metadata": {},
   "outputs": [
    {
     "name": "stdout",
     "output_type": "stream",
     "text": [
      "Delhi Total Confirmed Cases Till Date:  1253902\n",
      "Delhi Total Recovered Cases Till Date:  1143980\n",
      "Delhi Total Deceased Cases Till Date:  18063\n"
     ]
    }
   ],
   "source": [
    "import urllib.request as url\n",
    "import json\n",
    "res= url.urlopen('https://api.covid19india.org/states_daily.json')\n",
    "data= json.load(res)\n",
    "states=data[\"states_daily\"]\n",
    "state='dl'\n",
    "\n",
    "conf_cases=[]\n",
    "for i in range(len(states)):\n",
    "    if states[i]['status'] == 'Confirmed':\n",
    "        conf_cases.append(states[i])\n",
    "\n",
    "recv_cases=[]\n",
    "for i in range(len(states)):\n",
    "    if states[i]['status'] == 'Recovered':\n",
    "        recv_cases.append(states[i])\n",
    "        \n",
    "dece_cases=[]\n",
    "for i in range(len(states)):\n",
    "    if states[i]['status'] == 'Deceased':\n",
    "        dece_cases.append(states[i])\n",
    "        \n",
    "sum = 0\n",
    "for i in range(len(conf_cases)):\n",
    "    sum+=int(conf_cases[i]['dl'])\n",
    "print(\"Delhi Total Confirmed Cases Till Date: \",sum)\n",
    "    \n",
    "sum = 0\n",
    "for i in range(len(recv_cases)):\n",
    "    sum+=int(recv_cases[i]['dl'])\n",
    "print(\"Delhi Total Recovered Cases Till Date: \",sum)\n",
    "    \n",
    "sum = 0\n",
    "for i in range(len(dece_cases)):\n",
    "    sum+=int(dece_cases[i]['dl'])\n",
    "    \n",
    "print(\"Delhi Total Deceased Cases Till Date: \",sum)\n"
   ]
  },
  {
   "cell_type": "code",
   "execution_count": 23,
   "id": "af2c4d80",
   "metadata": {},
   "outputs": [
    {
     "name": "stdout",
     "output_type": "stream",
     "text": [
      "ENTER THE NAME OF PLAYER: tendulkar\n",
      "\n",
      "\n",
      "Sachin Tendulkar has been the most complete batsman of his time, the most prolific runmaker of all time, and arguably the biggest cricket icon the game has ever known. His batting was based on the purest principles: perfect balance, economy of movement, precision in stroke-making, and that intangible quality given only to geniuses - anticipation. If he didn't have a signature stroke - the upright, back-foot punch comes close - it's because he was equally proficient at each of the full range of orthodox shots (and plenty of improvised ones as well) and can pull them out at will.  \n",
      "\n",
      "\n",
      "{'50': '96', '100': '49', 'St': '0', 'Ct': '140', '6s': '195', '4s': '2016', 'SR': '86.23', 'BF': '21367', 'Ave': '44.83', 'HS': '200*', 'Runs': '18426', 'NO': '41', 'Inns': '452', 'Mat': '463'}\n"
     ]
    }
   ],
   "source": [
    "import urllib.request as url\n",
    "import json\n",
    "\n",
    "pl_name=input(\"ENTER THE NAME OF PLAYER: \")\n",
    "pl_name=pl_name.replace(' ','%20')\n",
    "p_find='https://cricapi.com/api/playerFinder?apikey=60dTbfQmRyQLhI861tnMGYJEQB72&name={}'.format(pl_name)\n",
    "res= url.urlopen(p_find)\n",
    "data=json.load(res)\n",
    "pd=(data['data'])\n",
    "pids=int(pd[0]['pid'])\n",
    "p_s='https://cricapi.com/api/playerStats?apikey=60dTbfQmRyQLhI861tnMGYJEQB72&pid={}'.format(pids)\n",
    "res=url.urlopen(p_s)\n",
    "data=json.load(res)\n",
    "pd=(data['profile'])\n",
    "print(pd)\n",
    "odi= data['data']['batting']['ODIs']\n",
    "print(odi)\n"
   ]
  },
  {
   "cell_type": "code",
   "execution_count": 25,
   "id": "853854a2",
   "metadata": {},
   "outputs": [
    {
     "name": "stdout",
     "output_type": "stream",
     "text": [
      "Enter The Name Of Movie: iron man\n",
      "Summary:  None\n",
      "\n",
      "Rating:  \n",
      "\n",
      "7.9/10 \n",
      "956,116\n",
      "\n",
      "1,397 user\n",
      "545 critic\n",
      "\n",
      "\n"
     ]
    }
   ],
   "source": [
    "import bs4\n",
    "import urllib.request as url\n",
    "movie=input(\"Enter The Name Of Movie: \")\n",
    "movie=movie.replace(' ','+')\n",
    "path='https://www.imdb.com/find?q={}&ref_=nv_sr_sm'.format(movie)\n",
    "res= url.urlopen(path)\n",
    "page= bs4.BeautifulSoup(res,'lxml')\n",
    "td=page.find('td',class_='result_text')\n",
    "m_link=td.find('a')['href']\n",
    "new_link='https://www.imdb.com' + m_link\n",
    "res=url.urlopen(new_link)\n",
    "page=bs4.BeautifulSoup(res,'lxml')\n",
    "m_bio=page.find('div',class_=\"plot_summary \")\n",
    "rating=page.find('div', class_='imdbRating')\n",
    "print('Summary: ',m_bio)\n",
    "print()\n",
    "print('Rating: ',rating.text)"
   ]
  },
  {
   "cell_type": "code",
   "execution_count": null,
   "id": "e37823ce",
   "metadata": {},
   "outputs": [],
   "source": []
  }
 ],
 "metadata": {
  "kernelspec": {
   "display_name": "Python 3",
   "language": "python",
   "name": "python3"
  },
  "language_info": {
   "codemirror_mode": {
    "name": "ipython",
    "version": 3
   },
   "file_extension": ".py",
   "mimetype": "text/x-python",
   "name": "python",
   "nbconvert_exporter": "python",
   "pygments_lexer": "ipython3",
   "version": "3.9.4"
  }
 },
 "nbformat": 4,
 "nbformat_minor": 5
}
