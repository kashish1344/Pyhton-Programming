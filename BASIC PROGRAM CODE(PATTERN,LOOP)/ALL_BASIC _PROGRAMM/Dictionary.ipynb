{
 "cells": [
  {
   "cell_type": "code",
   "execution_count": 1,
   "id": "7983caa2",
   "metadata": {},
   "outputs": [
    {
     "name": "stdout",
     "output_type": "stream",
     "text": [
      "{'Name': 'Ram', 'Age': 18, 'Year': 1997}\n"
     ]
    }
   ],
   "source": [
    "dict1={'Name':'Ram','Age':18,'Year':1997}\n",
    "print(dict1)                                    # to print whole dictionary"
   ]
  },
  {
   "cell_type": "code",
   "execution_count": 5,
   "id": "0fd9bb1a",
   "metadata": {},
   "outputs": [
    {
     "name": "stdout",
     "output_type": "stream",
     "text": [
      "Ram\n"
     ]
    }
   ],
   "source": [
    "dict1={'Name':'Ram','Age':18,'Year':1997}\n",
    "x=dict1['Name']\n",
    "print(x)                                        #to print specific value"
   ]
  },
  {
   "cell_type": "code",
   "execution_count": 6,
   "id": "004503e0",
   "metadata": {},
   "outputs": [
    {
     "name": "stdout",
     "output_type": "stream",
     "text": [
      "Ram\n"
     ]
    }
   ],
   "source": [
    "dict1={'Name':'Ram','Age':18,'Year':1997}\n",
    "x=dict1.get('Name')\n",
    "print(x)                             # another way to print specific values"
   ]
  },
  {
   "cell_type": "code",
   "execution_count": 7,
   "id": "08069bb5",
   "metadata": {},
   "outputs": [
    {
     "name": "stdout",
     "output_type": "stream",
     "text": [
      "Name\n",
      "Age\n",
      "Year\n"
     ]
    }
   ],
   "source": [
    "dict1={'Name':'Ram','Age':18,'Year':1997}\n",
    "for i in dict1:\n",
    "    print(i)                                      #it will print Keys only"
   ]
  },
  {
   "cell_type": "code",
   "execution_count": 9,
   "id": "7a00479c",
   "metadata": {},
   "outputs": [
    {
     "name": "stdout",
     "output_type": "stream",
     "text": [
      "Ram\n",
      "18\n",
      "1997\n"
     ]
    }
   ],
   "source": [
    "dict1={'Name':'Ram','Age':18,'Year':1997}\n",
    "for i in dict1.values():\n",
    "    print(i)                                   #it will print the values"
   ]
  },
  {
   "cell_type": "code",
   "execution_count": 12,
   "id": "41547eb2",
   "metadata": {},
   "outputs": [
    {
     "name": "stdout",
     "output_type": "stream",
     "text": [
      "Name : Ram\n",
      "Age : 18\n",
      "Year : 1997\n"
     ]
    }
   ],
   "source": [
    "dict1={'Name':'Ram','Age':18,'Year':1997}\n",
    "for x,y in dict1.items():                      #it will print key along with their values\n",
    "    print(x,':',y)"
   ]
  },
  {
   "cell_type": "code",
   "execution_count": 19,
   "id": "093aa492",
   "metadata": {},
   "outputs": [
    {
     "name": "stdout",
     "output_type": "stream",
     "text": [
      "Kashish Saini\n"
     ]
    }
   ],
   "source": [
    "dict1={'Name':'Ram','Age':18,'Year':1997}\n",
    "dict1['Name']='Kashish Saini'\n",
    "print(dict1['Name'])"
   ]
  },
  {
   "cell_type": "code",
   "execution_count": 23,
   "id": "b49dcb7a",
   "metadata": {},
   "outputs": [
    {
     "name": "stdout",
     "output_type": "stream",
     "text": [
      "{'Name': 'Kashish Saini', 'Age': 18, 'Year': 1997}\n"
     ]
    }
   ],
   "source": [
    "dict1={'Name':'Ram','Age':18,'Year':1997}\n",
    "dict1['Name']='Kashish Saini'\n",
    "print(dict1)"
   ]
  },
  {
   "cell_type": "code",
   "execution_count": 24,
   "id": "5f16ccd7",
   "metadata": {},
   "outputs": [
    {
     "name": "stdout",
     "output_type": "stream",
     "text": [
      "{'Name': 'Ram', 'Age': 18, 'Year': 1997, 'Nick Name': 'Kashish Saini'}\n"
     ]
    }
   ],
   "source": [
    "dict1={'Name':'Ram','Age':18,'Year':1997}\n",
    "dict1['Nick Name']='Kashish Saini'\n",
    "print(dict1)"
   ]
  },
  {
   "cell_type": "code",
   "execution_count": 25,
   "id": "9b6a6bd1",
   "metadata": {},
   "outputs": [
    {
     "name": "stdout",
     "output_type": "stream",
     "text": [
      "{'Name': 'Ram', 'Age': 18}\n"
     ]
    }
   ],
   "source": [
    "dict1={'Name':'Ram','Age':18,'Year':1997}\n",
    "dict1.popitem()\n",
    "print(dict1)"
   ]
  },
  {
   "cell_type": "code",
   "execution_count": 27,
   "id": "303af685",
   "metadata": {},
   "outputs": [
    {
     "name": "stdout",
     "output_type": "stream",
     "text": [
      "{'Name': 'Ram', 'Age': 18}\n"
     ]
    }
   ],
   "source": [
    "dict1={'Name':'Ram','Age':18,'Year':1997}\n",
    "dict1.pop('Year')\n",
    "print(dict1)"
   ]
  },
  {
   "cell_type": "code",
   "execution_count": 28,
   "id": "ff806891",
   "metadata": {},
   "outputs": [
    {
     "ename": "NameError",
     "evalue": "name 'dict1' is not defined",
     "output_type": "error",
     "traceback": [
      "\u001b[1;31m---------------------------------------------------------------------------\u001b[0m",
      "\u001b[1;31mNameError\u001b[0m                                 Traceback (most recent call last)",
      "\u001b[1;32m<ipython-input-28-a7a7fd421065>\u001b[0m in \u001b[0;36m<module>\u001b[1;34m\u001b[0m\n\u001b[0;32m      1\u001b[0m \u001b[0mdict1\u001b[0m\u001b[1;33m=\u001b[0m\u001b[1;33m{\u001b[0m\u001b[1;34m'Name'\u001b[0m\u001b[1;33m:\u001b[0m\u001b[1;34m'Ram'\u001b[0m\u001b[1;33m,\u001b[0m\u001b[1;34m'Age'\u001b[0m\u001b[1;33m:\u001b[0m\u001b[1;36m18\u001b[0m\u001b[1;33m,\u001b[0m\u001b[1;34m'Year'\u001b[0m\u001b[1;33m:\u001b[0m\u001b[1;36m1997\u001b[0m\u001b[1;33m}\u001b[0m\u001b[1;33m\u001b[0m\u001b[1;33m\u001b[0m\u001b[0m\n\u001b[0;32m      2\u001b[0m \u001b[1;32mdel\u001b[0m \u001b[0mdict1\u001b[0m\u001b[1;33m\u001b[0m\u001b[1;33m\u001b[0m\u001b[0m\n\u001b[1;32m----> 3\u001b[1;33m \u001b[0mprint\u001b[0m\u001b[1;33m(\u001b[0m\u001b[0mdict1\u001b[0m\u001b[1;33m)\u001b[0m\u001b[1;33m\u001b[0m\u001b[1;33m\u001b[0m\u001b[0m\n\u001b[0m",
      "\u001b[1;31mNameError\u001b[0m: name 'dict1' is not defined"
     ]
    }
   ],
   "source": [
    "dict1={'Name':'Ram','Age':18,'Year':1997}\n",
    "del dict1\n",
    "print(dict1)"
   ]
  },
  {
   "cell_type": "code",
   "execution_count": 29,
   "id": "a5de44fb",
   "metadata": {},
   "outputs": [
    {
     "name": "stdout",
     "output_type": "stream",
     "text": [
      "{}\n"
     ]
    }
   ],
   "source": [
    "dict1={'Name':'Ram','Age':18,'Year':1997}\n",
    "dict1.clear()\n",
    "print(dict1)"
   ]
  },
  {
   "cell_type": "code",
   "execution_count": 36,
   "id": "8b16347a",
   "metadata": {},
   "outputs": [
    {
     "name": "stdout",
     "output_type": "stream",
     "text": [
      "{'Name': 'Ram', 'Age': 18, 'Year': 1997}\n"
     ]
    }
   ],
   "source": [
    "dict1={'Name':'Ram','Age':18,'Year':1997}\n",
    "x=dict1.copy()\n",
    "print(x)"
   ]
  },
  {
   "cell_type": "code",
   "execution_count": 42,
   "id": "f66e01fe",
   "metadata": {},
   "outputs": [
    {
     "name": "stdout",
     "output_type": "stream",
     "text": [
      "{'Age': 0, 'Name': 0, 'Year': 0}\n"
     ]
    }
   ],
   "source": [
    "x={'Name','Age','Year'}\n",
    "y=0\n",
    "dict1=dict1.fromkeys(x,y)\n",
    "print(dict1)"
   ]
  },
  {
   "cell_type": "code",
   "execution_count": 43,
   "id": "aa3262ec",
   "metadata": {},
   "outputs": [
    {
     "name": "stdout",
     "output_type": "stream",
     "text": [
      "Ram\n"
     ]
    }
   ],
   "source": [
    "dict1={'Name':'Ram','Age':18,'Year':1997}\n",
    "x=dict1.setdefault('Name','Shyam')\n",
    "print(x)"
   ]
  },
  {
   "cell_type": "code",
   "execution_count": 46,
   "id": "5d2d6c82",
   "metadata": {},
   "outputs": [
    {
     "name": "stdout",
     "output_type": "stream",
     "text": [
      "Shyam\n"
     ]
    }
   ],
   "source": [
    "dict1={'Name':'Ram','Age':18,'Year':1997}\n",
    "x=dict1.setdefault('2nd Name','Shyam')\n",
    "print(x)\n"
   ]
  },
  {
   "cell_type": "code",
   "execution_count": 47,
   "id": "775ac456",
   "metadata": {},
   "outputs": [
    {
     "name": "stdout",
     "output_type": "stream",
     "text": [
      "Shyam\n",
      "{'Name': 'Ram', 'Age': 18, 'Year': 1997, '2nd Name': 'Shyam'}\n"
     ]
    }
   ],
   "source": [
    "dict1={'Name':'Ram','Age':18,'Year':1997}\n",
    "x=dict1.setdefault('2nd Name','Shyam')\n",
    "print(x)\n",
    "print(dict1)"
   ]
  },
  {
   "cell_type": "code",
   "execution_count": 53,
   "id": "53b593f2",
   "metadata": {},
   "outputs": [
    {
     "name": "stdout",
     "output_type": "stream",
     "text": [
      "{'Name': 'Ram', 'Age': 18, 'Year': 1997, 'Place': 'Delhi'}\n"
     ]
    }
   ],
   "source": [
    "dict1={'Name':'Ram','Age':18,'Year':1997}\n",
    "x=dict1.update({'Place':'Delhi'})\n",
    "print(dict1)"
   ]
  },
  {
   "cell_type": "code",
   "execution_count": 57,
   "id": "e26e0a87",
   "metadata": {},
   "outputs": [
    {
     "name": "stdout",
     "output_type": "stream",
     "text": [
      "Enter The Id And Name separated by comma or enter q for Exit1,kashish\n",
      "1 kashish\n",
      "Enter ID number to search2,raju\n",
      "key not found\n",
      "Enter The Id And Name separated by comma or enter q for Exit2,raju\n",
      "1 kashish\n",
      "2 raju\n",
      "Enter ID number to search3,neha\n",
      "key not found\n",
      "Enter The Id And Name separated by comma or enter q for Exitq\n"
     ]
    }
   ],
   "source": [
    "student_db={}\n",
    "while True:\n",
    "    line=input(\"Enter The Id And Name separated by comma or enter q for Exit\")\n",
    "    if line=='q':\n",
    "        break\n",
    "    id,name=line.split(',')\n",
    "    student_db.update({id:name})\n",
    "    for x,y in student_db.items():\n",
    "        print(x,y)\n",
    "    key=input(\"Enter ID number to search: \")\n",
    "    if key in student_db:\n",
    "        print('Key=',key,'Value=',student_db[key])\n",
    "    else:\n",
    "        print('key not found')"
   ]
  },
  {
   "cell_type": "code",
   "execution_count": 100,
   "id": "e9ff5cdb",
   "metadata": {},
   "outputs": [
    {
     "name": "stdout",
     "output_type": "stream",
     "text": [
      "sam 88 Football\n",
      "tom 87 Cricket\n"
     ]
    }
   ],
   "source": [
    "data={\"names\":['John','sam','tom','ricky','adam'], \n",
    "      'marks':[78,88,87,45,78],\n",
    "      'hobby':['Cricket','Football','Cricket','Cricket']}    #find data of those students whose marks are above 80..?\n",
    "for i in range(len(data['names'])):\n",
    "    if data['marks'][i]>80:\n",
    "        print(data['names'][i],data['marks'][i],data['hobby'][i])"
   ]
  },
  {
   "cell_type": "code",
   "execution_count": 27,
   "id": "8d650261",
   "metadata": {},
   "outputs": [
    {
     "name": "stdout",
     "output_type": "stream",
     "text": [
      "Student Name: John Total Marks:  188 Average Marks:  62.666666666666664\n",
      "\n",
      "Student Name: sam Total Marks:  182 Average Marks:  60.666666666666664\n",
      "\n",
      "Student Name: tom Total Marks:  273 Average Marks:  91.0\n",
      "\n",
      "Student Name: ricky Total Marks:  197 Average Marks:  65.66666666666667\n",
      "\n",
      "Student Name: adam Total Marks:  224 Average Marks:  74.66666666666667\n",
      "\n"
     ]
    }
   ],
   "source": [
    "data={\"names\":['John','sam','tom','ricky','adam'], \n",
    "      'marks':{'phy':[45,63,86,63,78],\n",
    "               'chem':[76,36,89,78,63],\n",
    "               'maths':[67,83,98,56,83]\n",
    "              }\n",
    "      ,'hobby':['Cricket','Football','Cricket','Cricket']\n",
    "     }\n",
    "\n",
    "for i in range(len(data[\"names\"])):\n",
    "    total=0\n",
    "    avg_marks=0\n",
    "    total=data['marks']['phy'][i] + data['marks']['chem'][i] + data['marks']['maths'][i]\n",
    "    avg=(total)/len(data['marks'])\n",
    "    print('Student Name:', data[\"names\"][i],'Total Marks: ', total,'Average Marks: ',avg)\n",
    "    print()"
   ]
  },
  {
   "cell_type": "code",
   "execution_count": 1,
   "id": "539731b5",
   "metadata": {},
   "outputs": [
    {
     "name": "stdout",
     "output_type": "stream",
     "text": [
      "Student Name: John Total Marks:  188 Average Marks:  62.666666666666664\n",
      "\n",
      "Student Name: sam Total Marks:  182 Average Marks:  60.666666666666664\n",
      "\n",
      "Student Name: tom Total Marks:  273 Average Marks:  91.0\n",
      "\n",
      "Student Name: ricky Total Marks:  197 Average Marks:  65.66666666666667\n",
      "\n",
      "Student Name: adam Total Marks:  224 Average Marks:  74.66666666666667\n",
      "\n"
     ]
    }
   ],
   "source": [
    "data={\"names\":['John','sam','tom','ricky','adam'], \n",
    "      'marks':{'phy':[45,63,86,63,78],\n",
    "               'chem':[76,36,89,78,63],\n",
    "               'maths':[67,83,98,56,83]\n",
    "              }\n",
    "      ,'hobby':['Cricket','Football','Cricket','Cricket']\n",
    "     }\n",
    "\n",
    "for i in range(len(data[\"names\"])):\n",
    "    total=0\n",
    "    avg_marks=0\n",
    "    total=data['marks']['phy'][i] + data['marks']['chem'][i] + data['marks']['maths'][i]\n",
    "    avg=(total)/len(data['marks'])\n",
    "    print('Student Name:', data[\"names\"][i],'Total Marks: ', total,'Average Marks: ',avg)\n",
    "    print()"
   ]
  },
  {
   "cell_type": "code",
   "execution_count": 4,
   "id": "4425d710",
   "metadata": {},
   "outputs": [
    {
     "name": "stdout",
     "output_type": "stream",
     "text": [
      "45\n",
      "76\n",
      "67\n",
      "Total of  John is:  188\n",
      "Average  of  John is:  62.666666666666664\n",
      "63\n",
      "36\n",
      "83\n",
      "Total of  sam is:  182\n",
      "Average  of  sam is:  60.666666666666664\n",
      "86\n",
      "89\n",
      "98\n",
      "Total of  tom is:  273\n",
      "Average  of  tom is:  91.0\n",
      "63\n",
      "78\n",
      "56\n",
      "Total of  ricky is:  197\n",
      "Average  of  ricky is:  65.66666666666667\n",
      "78\n",
      "63\n",
      "83\n",
      "Total of  adam is:  224\n",
      "Average  of  adam is:  74.66666666666667\n"
     ]
    }
   ],
   "source": [
    "data={\"names\":['John','sam','tom','ricky','adam'], \n",
    "      'marks':{'phy':[45,63,86,63,78],\n",
    "               'chem':[76,36,89,78,63],\n",
    "               'maths':[67,83,98,56,83]\n",
    "              }\n",
    "      ,'hobby':['Cricket','Football','Cricket','Cricket']\n",
    "     }\n",
    "\n",
    "for i in range(len(data[\"names\"])):\n",
    "    total=0\n",
    "    for j in data['marks']:\n",
    "        print(data['marks'][j][i])\n",
    "        total+=data['marks'][j][i]\n",
    "        avg=total/3\n",
    "    print(\"Total of \",data['names'][i],'is: ',total)\n",
    "    print(\"Average  of \",data['names'][i],'is: ',avg)"
   ]
  },
  {
   "cell_type": "code",
   "execution_count": 39,
   "id": "24bb4847",
   "metadata": {},
   "outputs": [
    {
     "name": "stdout",
     "output_type": "stream",
     "text": [
      "Enter Your Search: iphone\n"
     ]
    }
   ],
   "source": [
    "products = [\n",
    "    {\"p_name\":\"Apple Iphone 11\",\"brand\":\"Apple\",\"Category\":\"Mobile\",\"price\":98000},\n",
    "    {\"p_name\":\"Redmi Note 6\",\"brand\":\"Xiaomi\",\"Category\":\"Mobile\",\"price\":15000},\n",
    "    {\"p_name\":\"Sports Shoes\",\"brand\":\"Puma\",\"Category\":\"Shoes\",\"price\":3400},\n",
    "    {\"p_name\":\"JBL Headphones bluetooth\",\"brand\":\"JBL\",\"Category\":\"Headphones\",\"price\":1200},\n",
    "    {\"p_name\":\"Leather Jacket\",\"brand\":\"Zara\",\"Category\":\"Clothes\",\"price\":4500},\n",
    "    {\"p_name\":\"Puma Shoes\",\"brand\":\"Puma\",\"Category\":\"Shoes\",\"price\":2070},\n",
    "    {\"p_name\":\"Adidas Sports Shoes\",\"brand\":\"Adidas\",\"Category\":\"Shoes\",\"price\":1900},\n",
    "    {\"p_name\":\"Macbook Pro\",\"brand\":\"Apple\",\"Category\":\"Laptop\",\"price\":128000},\n",
    "    {\"p_name\":\"Lenovo thinkpad\",\"brand\":\"Lenovo\",\"Category\":\"Laptop\",\"price\":78000},\n",
    "    {\"p_name\":\"Asus Zenbook\",\"brand\":\"Asus\",\"Category\":\"Laptop\",\"price\":88000},\n",
    "    ]\n",
    "search=input(\"Enter  Your Search: \")\n",
    "search=search.lower()\n",
    "result=[]\n",
    "\n",
    "for i in range(len(products)):\n",
    "    con_1=search in products[i]['p_name'].lower()\n",
    "    con_2=search in products[i]['brand'].lower()\n",
    "    con_3=search in products[i]['Category'].lower()\n",
    "    if con_1 or con_2 or con_3:\n",
    "        print(\"Name: \",products[i])['p_name']\n",
    "        print(\"Name: \",products[i])['brand']\n",
    "        print(\"Name: \",products[i])['category']\n",
    "        print('*' *50)\n",
    "        result.append(product[i])\n"
   ]
  },
  {
   "cell_type": "code",
   "execution_count": 32,
   "id": "cfee9a64",
   "metadata": {},
   "outputs": [
    {
     "name": "stdout",
     "output_type": "stream",
     "text": [
      "Enter your search : apple\n",
      "Name : Apple Iphone 11\n",
      "Brand : Apple\n",
      "Price : 98000\n",
      "**************************************************\n",
      "Name : Macbook Pro\n",
      "Brand : Apple\n",
      "Price : 128000\n",
      "**************************************************\n",
      "Filter Products : Yes | No ? yes\n",
      "\n",
      "    1. High to Low\n",
      "    2. Low to High\n",
      "\n",
      "Enter your choice : 1\n",
      "Name : Apple Iphone 11\n",
      "Brand : Apple\n",
      "Price : 98000\n",
      "**************************************************\n",
      "Name : Macbook Pro\n",
      "Brand : Apple\n",
      "Price : 128000\n",
      "**************************************************\n"
     ]
    }
   ],
   "source": [
    "products = [\n",
    "    {\"p_name\":\"Apple Iphone 11\",\"brand\":\"Apple\",\"Category\":\"Mobile\",\"price\":98000},\n",
    "    {\"p_name\":\"Redmi Note 6\",\"brand\":\"Xiaomi\",\"Category\":\"Mobile\",\"price\":15000},\n",
    "    {\"p_name\":\"Sports Shoes\",\"brand\":\"Puma\",\"Category\":\"Shoes\",\"price\":3400},\n",
    "    {\"p_name\":\"JBL Headphones bluetooth\",\"brand\":\"JBL\",\"Category\":\"Headphones\",\"price\":1200},\n",
    "    {\"p_name\":\"Leather Jacket\",\"brand\":\"Zara\",\"Category\":\"Clothes\",\"price\":4500},\n",
    "    {\"p_name\":\"Puma Shoes\",\"brand\":\"Puma\",\"Category\":\"Shoes\",\"price\":2070},\n",
    "    {\"p_name\":\"Adidas Sports Shoes\",\"brand\":\"Adidas\",\"Category\":\"Shoes\",\"price\":1900},\n",
    "    {\"p_name\":\"Macbook Pro\",\"brand\":\"Apple\",\"Category\":\"Laptop\",\"price\":128000},\n",
    "    {\"p_name\":\"Lenovo thinkpad\",\"brand\":\"Lenovo\",\"Category\":\"Laptop\",\"price\":78000},\n",
    "    {\"p_name\":\"Asus Zenbook\",\"brand\":\"Asus\",\"Category\":\"Laptop\",\"price\":88000},\n",
    "    ]\n",
    "\n",
    "to_search = input(\"Enter your search : \")\n",
    "to_search = to_search.lower()\n",
    "\n",
    "'''\n",
    "1. User can enter either product name or brand or category\n",
    "2. Store search results in a list\n",
    "3. Ask user if he/she wants to filter data based on price\n",
    "  a. low to high\n",
    "  b. high to low\n",
    "'''\n",
    "\n",
    "results = []\n",
    "\n",
    "for i in range(len(products)):\n",
    "    condition_1 = to_search in products[i]['p_name'].lower()\n",
    "    condition_2 = to_search in products[i]['brand'].lower()\n",
    "    condition_3 = to_search in products[i]['Category'].lower()\n",
    "    if condition_1 or condition_2 or condition_3:\n",
    "        print(\"Name :\",products[i]['p_name'])\n",
    "        print(\"Brand :\",products[i]['brand'])\n",
    "        print(\"Price :\",products[i]['price'])\n",
    "        print(\"*\" * 50)\n",
    "        results.append(products[i])\n",
    "\n",
    "to_filter = input(\"Filter Products : Yes | No ? \")\n",
    "\n",
    "def return_price(x):\n",
    "    return x['price']\n",
    "\n",
    "if to_filter.lower() == 'yes':\n",
    "    print(\"\"\"\n",
    "    1. High to Low\n",
    "    2. Low to High\n",
    "\"\"\")\n",
    "\n",
    "    ch = input(\"Enter your choice : \")\n",
    "    if ch == \"1\":\n",
    "        sorted(results, key=return_price, reverse=True)\n",
    "    else:\n",
    "        sorted(results, key=return_price)\n",
    "\n",
    "    for i in range(len(results)):\n",
    "        print(\"Name :\",results[i]['p_name'])\n",
    "        print(\"Brand :\",results[i]['brand'])\n",
    "        print(\"Price :\",results[i]['price'])\n",
    "        print(\"*\" * 50)\n",
    "\n",
    "\n"
   ]
  },
  {
   "cell_type": "code",
   "execution_count": 1,
   "id": "c44ad8e1",
   "metadata": {},
   "outputs": [
    {
     "data": {
      "text/plain": [
       "[1, 2, 2, 3, 4, 5, 6, 6, 7, 9, 9, 22]"
      ]
     },
     "execution_count": 1,
     "metadata": {},
     "output_type": "execute_result"
    }
   ],
   "source": [
    "x=[4,5,6,2,9,7,3,6,1,9,2,22]    #Asending order\n",
    "sorted (x)"
   ]
  },
  {
   "cell_type": "code",
   "execution_count": 3,
   "id": "a490d1eb",
   "metadata": {},
   "outputs": [
    {
     "data": {
      "text/plain": [
       "[22, 9, 9, 7, 6, 6, 5, 4, 3, 2, 2, 1]"
      ]
     },
     "execution_count": 3,
     "metadata": {},
     "output_type": "execute_result"
    }
   ],
   "source": [
    "x=[4,5,6,2,9,7,3,6,1,9,2,22]\n",
    "sorted(x,reverse=True)                #Desending order"
   ]
  },
  {
   "cell_type": "code",
   "execution_count": 8,
   "id": "dee24357",
   "metadata": {},
   "outputs": [
    {
     "data": {
      "text/plain": [
       "[['Aman', 23], ['John', 45], ['Sam', 42], ['Tom', 56]]"
      ]
     },
     "execution_count": 8,
     "metadata": {},
     "output_type": "execute_result"
    }
   ],
   "source": [
    "x=[['John',45],['Sam',42],['Aman',23],['Tom',56]]\n",
    "sorted(x)                            #aranging acc. to alphabets"
   ]
  },
  {
   "cell_type": "code",
   "execution_count": 13,
   "id": "c439db3a",
   "metadata": {},
   "outputs": [
    {
     "data": {
      "text/plain": [
       "[['Aman', 23], ['Sam', 42], ['John', 45], ['Tom', 56]]"
      ]
     },
     "execution_count": 13,
     "metadata": {},
     "output_type": "execute_result"
    }
   ],
   "source": [
    "x=[['John',45],['Sam',42],['Aman',23],['Tom',56]]\n",
    "def  sort_data(data):\n",
    "    return data[1]\n",
    "sorted(x,key=sort_data)"
   ]
  },
  {
   "cell_type": "code",
   "execution_count": 2,
   "id": "207a0112",
   "metadata": {},
   "outputs": [
    {
     "name": "stdout",
     "output_type": "stream",
     "text": [
      "45\n",
      "42\n",
      "23\n",
      "56\n"
     ]
    }
   ],
   "source": [
    "x=[['John',45],['Sam',42],['Aman',23],['Tom',56]]\n",
    "\n",
    "for item in x:\n",
    "    print(item[1])"
   ]
  },
  {
   "cell_type": "code",
   "execution_count": 28,
   "id": "cf5f9c6c",
   "metadata": {},
   "outputs": [
    {
     "data": {
      "text/plain": [
       "[{'name': 'John', 'age': 34},\n",
       " {'name': 'Mac', 'age': 24},\n",
       " {'name': 'Sam', 'age': 39},\n",
       " {'name': 'Tom', 'age': 74}]"
      ]
     },
     "execution_count": 28,
     "metadata": {},
     "output_type": "execute_result"
    }
   ],
   "source": [
    "data = [{'name':'John','age':34},\n",
    "        {'name':'Mac','age':24},\n",
    "        {'name':'Tom','age':74},\n",
    "        {'name':'Sam','age':39}\n",
    "       ]\n",
    "def sort_data(data):\n",
    "    return data['name']\n",
    "sorted(data, key=sort_data)"
   ]
  }
 ],
 "metadata": {
  "kernelspec": {
   "display_name": "Python 3",
   "language": "python",
   "name": "python3"
  },
  "language_info": {
   "codemirror_mode": {
    "name": "ipython",
    "version": 3
   },
   "file_extension": ".py",
   "mimetype": "text/x-python",
   "name": "python",
   "nbconvert_exporter": "python",
   "pygments_lexer": "ipython3",
   "version": "3.9.4"
  }
 },
 "nbformat": 4,
 "nbformat_minor": 5
}