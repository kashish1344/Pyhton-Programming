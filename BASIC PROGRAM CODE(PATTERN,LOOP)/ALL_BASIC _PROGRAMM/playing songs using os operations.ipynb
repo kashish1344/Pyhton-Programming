{
 "cells": [
  {
   "cell_type": "code",
   "execution_count": 11,
   "id": "2bc08848",
   "metadata": {},
   "outputs": [],
   "source": [
    "\n",
    "# playing a random file from a path using os,random list dir's\n",
    "\n",
    "\n",
    "import os\n",
    "import random\n",
    "os.startfile(r'C:\\Users\\himan\\Videos\\Captures')\n",
    "os.chdir(r'C:\\Users\\himan\\Videos\\Captures')\n",
    "songs=os.listdir()\n",
    "random.choice(songs)\n",
    "os.startfile(random.choice(songs))\n",
    "\n"
   ]
  },
  {
   "cell_type": "code",
   "execution_count": null,
   "id": "51e8e4b9",
   "metadata": {},
   "outputs": [],
   "source": [
    "\n",
    "        \n"
   ]
  },
  {
   "cell_type": "code",
   "execution_count": null,
   "id": "3bbbe826",
   "metadata": {},
   "outputs": [],
   "source": []
  }
 ],
 "metadata": {
  "kernelspec": {
   "display_name": "Python 3",
   "language": "python",
   "name": "python3"
  },
  "language_info": {
   "codemirror_mode": {
    "name": "ipython",
    "version": 3
   },
   "file_extension": ".py",
   "mimetype": "text/x-python",
   "name": "python",
   "nbconvert_exporter": "python",
   "pygments_lexer": "ipython3",
   "version": "3.9.4"
  }
 },
 "nbformat": 4,
 "nbformat_minor": 5
}
