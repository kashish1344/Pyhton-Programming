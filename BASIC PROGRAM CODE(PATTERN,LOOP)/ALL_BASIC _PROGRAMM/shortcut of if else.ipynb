{
 "cells": [
  {
   "cell_type": "code",
   "execution_count": 1,
   "id": "a6103eb9",
   "metadata": {},
   "outputs": [
    {
     "name": "stdout",
     "output_type": "stream",
     "text": [
      "Y is Greater\n"
     ]
    }
   ],
   "source": [
    "#if-Else Expression\n",
    "\n",
    "x,y=10,20\n",
    "condition='X is greater' if x>y else 'Y is Greater'\n",
    "print(condition)"
   ]
  },
  {
   "cell_type": "code",
   "execution_count": 4,
   "id": "54b58817",
   "metadata": {},
   "outputs": [
    {
     "name": "stdout",
     "output_type": "stream",
     "text": [
      "Enter a Value: 54\n",
      "Enter a value: 98\n",
      "Y is Greater\n"
     ]
    }
   ],
   "source": [
    "x=int(input(\"Enter a Value: \"))\n",
    "y=int(input(\"Enter a value: \"))\n",
    "condition='X is Greater' if x>y else 'Y is Greater' \n",
    "print(condition)"
   ]
  },
  {
   "cell_type": "code",
   "execution_count": null,
   "id": "ace35093",
   "metadata": {},
   "outputs": [],
   "source": []
  }
 ],
 "metadata": {
  "kernelspec": {
   "display_name": "Python 3",
   "language": "python",
   "name": "python3"
  },
  "language_info": {
   "codemirror_mode": {
    "name": "ipython",
    "version": 3
   },
   "file_extension": ".py",
   "mimetype": "text/x-python",
   "name": "python",
   "nbconvert_exporter": "python",
   "pygments_lexer": "ipython3",
   "version": "3.9.4"
  }
 },
 "nbformat": 4,
 "nbformat_minor": 5
}
