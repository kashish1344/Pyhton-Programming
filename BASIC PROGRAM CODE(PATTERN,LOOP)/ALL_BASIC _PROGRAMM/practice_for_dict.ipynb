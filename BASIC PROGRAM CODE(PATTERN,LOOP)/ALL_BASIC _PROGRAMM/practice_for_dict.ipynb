{
 "cells": [
  {
   "cell_type": "code",
   "execution_count": 3,
   "id": "86789429",
   "metadata": {},
   "outputs": [
    {
     "name": "stdout",
     "output_type": "stream",
     "text": [
      "John 78 Cricket\n",
      "sam 88 Football\n",
      "tom 87 Cricket\n",
      "ricky 45 Cricket\n",
      "adam 78 Vollyball\n"
     ]
    }
   ],
   "source": [
    "data={\"names\":['John','sam','tom','ricky','adam'], \n",
    "      'marks':[78,88,87,45,78],\n",
    "      'hobby':['Cricket','Football','Cricket','Cricket','Vollyball']}\n",
    "for i in range(len(data['names'])):\n",
    "    if data['marks'][i]>8:\n",
    "        print(data['names'][i],data['marks'][i],data['hobby'][i])\n",
    "        "
   ]
  },
  {
   "cell_type": "code",
   "execution_count": 7,
   "id": "48645d7c",
   "metadata": {},
   "outputs": [
    {
     "name": "stdout",
     "output_type": "stream",
     "text": [
      "45\n",
      "76\n",
      "67\n",
      "Total of  John is:  188\n",
      "Average of  John is:  62.666666666666664\n",
      "63\n",
      "36\n",
      "83\n",
      "Total of  sam is:  182\n",
      "Average of  sam is:  60.666666666666664\n",
      "86\n",
      "89\n",
      "98\n",
      "Total of  tom is:  273\n",
      "Average of  tom is:  91.0\n",
      "63\n",
      "78\n",
      "56\n",
      "Total of  ricky is:  197\n",
      "Average of  ricky is:  65.66666666666667\n",
      "78\n",
      "63\n",
      "83\n",
      "Total of  adam is:  224\n",
      "Average of  adam is:  74.66666666666667\n"
     ]
    }
   ],
   "source": [
    "data={\"names\":['John','sam','tom','ricky','adam'], \n",
    "      'marks':{'phy':[45,63,86,63,78],\n",
    "               'chem':[76,36,89,78,63],\n",
    "               'maths':[67,83,98,56,83]\n",
    "              }\n",
    "      ,'hobby':['Cricket','Football','Cricket','Cricket']\n",
    "     }\n",
    "total=0\n",
    "for i in range(len(data['names'])):\n",
    "    total=0\n",
    "    for j in data['marks']:\n",
    "        print(data['marks'][j][i])\n",
    "        total+=data['marks'][j][i]\n",
    "        avg=total/3\n",
    "    print(\"Total of \",data['names'][i],'is: ',total)\n",
    "    print('Average of ',data['names'][i],'is: ',avg)\n",
    "    "
   ]
  },
  {
   "cell_type": "code",
   "execution_count": 25,
   "id": "d1d73cc9",
   "metadata": {},
   "outputs": [
    {
     "name": "stdout",
     "output_type": "stream",
     "text": [
      "Enter  Your Search: zara\n",
      "Name:  {'p_name': 'Leather Jacket', 'brand': 'Zara', 'Category': 'Clothes', 'price': 4500}\n"
     ]
    },
    {
     "ename": "TypeError",
     "evalue": "'NoneType' object is not subscriptable",
     "output_type": "error",
     "traceback": [
      "\u001b[1;31m---------------------------------------------------------------------------\u001b[0m",
      "\u001b[1;31mTypeError\u001b[0m                                 Traceback (most recent call last)",
      "\u001b[1;32m<ipython-input-25-8fc0b96487ef>\u001b[0m in \u001b[0;36m<module>\u001b[1;34m\u001b[0m\n\u001b[0;32m     20\u001b[0m     \u001b[0mcon_3\u001b[0m\u001b[1;33m=\u001b[0m\u001b[0msearch\u001b[0m \u001b[1;32min\u001b[0m \u001b[0mproducts\u001b[0m\u001b[1;33m[\u001b[0m\u001b[0mi\u001b[0m\u001b[1;33m]\u001b[0m\u001b[1;33m[\u001b[0m\u001b[1;34m'Category'\u001b[0m\u001b[1;33m]\u001b[0m\u001b[1;33m.\u001b[0m\u001b[0mlower\u001b[0m\u001b[1;33m(\u001b[0m\u001b[1;33m)\u001b[0m\u001b[1;33m\u001b[0m\u001b[1;33m\u001b[0m\u001b[0m\n\u001b[0;32m     21\u001b[0m     \u001b[1;32mif\u001b[0m \u001b[0mcon_1\u001b[0m \u001b[1;32mor\u001b[0m \u001b[0mcon_2\u001b[0m \u001b[1;32mor\u001b[0m \u001b[0mcon_3\u001b[0m\u001b[1;33m:\u001b[0m\u001b[1;33m\u001b[0m\u001b[1;33m\u001b[0m\u001b[0m\n\u001b[1;32m---> 22\u001b[1;33m         \u001b[0mprint\u001b[0m\u001b[1;33m(\u001b[0m\u001b[1;34m\"Name: \"\u001b[0m\u001b[1;33m,\u001b[0m\u001b[0mproducts\u001b[0m\u001b[1;33m[\u001b[0m\u001b[0mi\u001b[0m\u001b[1;33m]\u001b[0m\u001b[1;33m)\u001b[0m\u001b[1;33m[\u001b[0m\u001b[1;34m'p_name'\u001b[0m\u001b[1;33m]\u001b[0m\u001b[1;33m\u001b[0m\u001b[1;33m\u001b[0m\u001b[0m\n\u001b[0m\u001b[0;32m     23\u001b[0m         \u001b[0mprint\u001b[0m\u001b[1;33m(\u001b[0m\u001b[1;34m\"Name: \"\u001b[0m\u001b[1;33m,\u001b[0m\u001b[0mproducts\u001b[0m\u001b[1;33m[\u001b[0m\u001b[0mi\u001b[0m\u001b[1;33m]\u001b[0m\u001b[1;33m)\u001b[0m\u001b[1;33m[\u001b[0m\u001b[1;34m'brand'\u001b[0m\u001b[1;33m]\u001b[0m\u001b[1;33m\u001b[0m\u001b[1;33m\u001b[0m\u001b[0m\n\u001b[0;32m     24\u001b[0m         \u001b[0mprint\u001b[0m\u001b[1;33m(\u001b[0m\u001b[1;34m\"Name: \"\u001b[0m\u001b[1;33m,\u001b[0m\u001b[0mproducts\u001b[0m\u001b[1;33m[\u001b[0m\u001b[0mi\u001b[0m\u001b[1;33m]\u001b[0m\u001b[1;33m)\u001b[0m\u001b[1;33m[\u001b[0m\u001b[1;34m'category'\u001b[0m\u001b[1;33m]\u001b[0m\u001b[1;33m\u001b[0m\u001b[1;33m\u001b[0m\u001b[0m\n",
      "\u001b[1;31mTypeError\u001b[0m: 'NoneType' object is not subscriptable"
     ]
    }
   ],
   "source": [
    "products = [\n",
    "    {\"p_name\":\"Apple Iphone 11\",\"brand\":\"Apple\",\"Category\":\"Mobile\",\"price\":98000},\n",
    "    {\"p_name\":\"Redmi Note 6\",\"brand\":\"Xiaomi\",\"Category\":\"Mobile\",\"price\":15000},\n",
    "    {\"p_name\":\"Sports Shoes\",\"brand\":\"Puma\",\"Category\":\"Shoes\",\"price\":3400},\n",
    "    {\"p_name\":\"JBL Headphones bluetooth\",\"brand\":\"JBL\",\"Category\":\"Headphones\",\"price\":1200},\n",
    "    {\"p_name\":\"Leather Jacket\",\"brand\":\"Zara\",\"Category\":\"Clothes\",\"price\":4500},\n",
    "    {\"p_name\":\"Puma Shoes\",\"brand\":\"Puma\",\"Category\":\"Shoes\",\"price\":2070},\n",
    "    {\"p_name\":\"Adidas Sports Shoes\",\"brand\":\"Adidas\",\"Category\":\"Shoes\",\"price\":1900},\n",
    "    {\"p_name\":\"Macbook Pro\",\"brand\":\"Apple\",\"Category\":\"Laptop\",\"price\":128000},\n",
    "    {\"p_name\":\"Lenovo thinkpad\",\"brand\":\"Lenovo\",\"Category\":\"Laptop\",\"price\":78000},\n",
    "    {\"p_name\":\"Asus Zenbook\",\"brand\":\"Asus\",\"Category\":\"Laptop\",\"price\":88000},\n",
    "    ]\n",
    "search=input(\"Enter  Your Search: \")\n",
    "search=search.lower()\n",
    "result=[]\n",
    "\n",
    "for i in range(len(products)):\n",
    "    con_1=search in products[i]['p_name'].lower()\n",
    "    con_2=search in products[i]['brand'].lower()\n",
    "    con_3=search in products[i]['Category'].lower()\n",
    "    if con_1 or con_2 or con_3:\n",
    "        print(\"Name: \",products[i])['p_name']\n",
    "        print(\"Name: \",products[i])['brand']\n",
    "        print(\"Name: \",products[i])['category']\n",
    "        print('*' *50)\n",
    "        result.append(product[i])"
   ]
  },
  {
   "cell_type": "code",
   "execution_count": 1,
   "id": "35e8458a",
   "metadata": {},
   "outputs": [
    {
     "name": "stdout",
     "output_type": "stream",
     "text": [
      "Enter your search : appl\n",
      "Name : Apple Iphone 11\n",
      "Brand : Apple\n",
      "Price : 98000\n",
      "**************************************************\n",
      "Name : Macbook Pro\n",
      "Brand : Apple\n",
      "Price : 128000\n",
      "**************************************************\n",
      "Filter Products : Yes | No ? yes\n",
      "\n",
      "    1. High to Low\n",
      "    2. Low to High\n",
      "\n",
      "Enter your choice : 2\n",
      "Name : Apple Iphone 11\n",
      "Brand : Apple\n",
      "Price : 98000\n",
      "**************************************************\n",
      "Name : Macbook Pro\n",
      "Brand : Apple\n",
      "Price : 128000\n",
      "**************************************************\n"
     ]
    }
   ],
   "source": [
    "products = [\n",
    "    {\"p_name\":\"Apple Iphone 11\",\"brand\":\"Apple\",\"Category\":\"Mobile\",\"price\":98000},\n",
    "    {\"p_name\":\"Redmi Note 6\",\"brand\":\"Xiaomi\",\"Category\":\"Mobile\",\"price\":15000},\n",
    "    {\"p_name\":\"Sports Shoes\",\"brand\":\"Puma\",\"Category\":\"Shoes\",\"price\":3400},\n",
    "    {\"p_name\":\"JBL Headphones bluetooth\",\"brand\":\"JBL\",\"Category\":\"Headphones\",\"price\":1200},\n",
    "    {\"p_name\":\"Leather Jacket\",\"brand\":\"Zara\",\"Category\":\"Clothes\",\"price\":4500},\n",
    "    {\"p_name\":\"Puma Shoes\",\"brand\":\"Puma\",\"Category\":\"Shoes\",\"price\":2070},\n",
    "    {\"p_name\":\"Adidas Sports Shoes\",\"brand\":\"Adidas\",\"Category\":\"Shoes\",\"price\":1900},\n",
    "    {\"p_name\":\"Macbook Pro\",\"brand\":\"Apple\",\"Category\":\"Laptop\",\"price\":128000},\n",
    "    {\"p_name\":\"Lenovo thinkpad\",\"brand\":\"Lenovo\",\"Category\":\"Laptop\",\"price\":78000},\n",
    "    {\"p_name\":\"Asus Zenbook\",\"brand\":\"Asus\",\"Category\":\"Laptop\",\"price\":88000},\n",
    "    ]\n",
    "\n",
    "to_search = input(\"Enter your search : \")\n",
    "to_search = to_search.lower()\n",
    "'''\n",
    "1. User can enter either product name or brand or category\n",
    "2. Store search results in a list\n",
    "3. Ask user if he/she wants to filter data based on price\n",
    "  a. low to high\n",
    "  b. high to low\n",
    "'''\n",
    "\n",
    "results = []\n",
    "\n",
    "for i in range(len(products)):\n",
    "    condition_1 = to_search in products[i]['p_name'].lower()\n",
    "    condition_2 = to_search in products[i]['brand'].lower()\n",
    "    condition_3 = to_search in products[i]['Category'].lower()\n",
    "    if condition_1 or condition_2 or condition_3:\n",
    "        print(\"Name :\",products[i]['p_name'])\n",
    "        print(\"Brand :\",products[i]['brand'])\n",
    "        print(\"Price :\",products[i]['price'])\n",
    "        print(\"*\" * 50)\n",
    "        results.append(products[i])\n",
    "\n",
    "to_filter = input(\"Filter Products : Yes | No ? \")\n",
    "\n",
    "def return_price(x):\n",
    "    return x['price']\n",
    "\n",
    "if to_filter.lower() == 'yes':\n",
    "    print(\"\"\"\n",
    "    1. High to Low\n",
    "    2. Low to High\n",
    "\"\"\")\n",
    "\n",
    "    ch = input(\"Enter your choice : \")\n",
    "    if ch == \"1\":\n",
    "        sorted(results, key=return_price, reverse=True)\n",
    "    else:\n",
    "        sorted(results, key=return_price)\n",
    "\n",
    "    for i in range(len(results)):\n",
    "        print(\"Name :\",results[i]['p_name'])\n",
    "        print(\"Brand :\",results[i]['brand'])\n",
    "        print(\"Price :\",results[i]['price'])\n",
    "        print(\"*\" * 50)\n",
    "\n"
   ]
  },
  {
   "cell_type": "code",
   "execution_count": null,
   "id": "54abd3aa",
   "metadata": {},
   "outputs": [],
   "source": []
  }
 ],
 "metadata": {
  "kernelspec": {
   "display_name": "Python 3",
   "language": "python",
   "name": "python3"
  },
  "language_info": {
   "codemirror_mode": {
    "name": "ipython",
    "version": 3
   },
   "file_extension": ".py",
   "mimetype": "text/x-python",
   "name": "python",
   "nbconvert_exporter": "python",
   "pygments_lexer": "ipython3",
   "version": "3.9.4"
  }
 },
 "nbformat": 4,
 "nbformat_minor": 5
}
