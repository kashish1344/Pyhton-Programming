{
 "cells": [
  {
   "cell_type": "code",
   "execution_count": 8,
   "id": "ba38c185",
   "metadata": {},
   "outputs": [
    {
     "name": "stdout",
     "output_type": "stream",
     "text": [
      "{'action': 0.29, 'comedy': 0.13, 'drama': 0.21, 'thriller': 0.13, 'horror': 0.06}\n"
     ]
    }
   ],
   "source": [
    "dataset = {\n",
    "    \"action\" : [\"matrix\",\"batman\",\"superman\",\"dabang\",\"avengers\",\"thor\",\n",
    "                \"hulk\",\"krrish\",\"ironman\",'kgf'],\n",
    "    \"comedy\" : [\"the mask\",\"dhamaal\",\"bala\",\"housefull\",\"golmaal\",\n",
    "                \"hera pheri\",\"golmaal 2\",\"dhamaal 2\",\"hera pheri 2\"],\n",
    "    \"drama\" : [\"dabang\",\"krrish\",\"hera pheri\",\"bala\",\"kahani\",\"batla house\",\n",
    "               \"kgf\",\"zero\",\"sultan\"],\n",
    "    \"thriller\" : [\"kahani\",\"kgf\",\"batla house\",\"madras cafe\",\"uri\",\n",
    "                  \"raw\",\"lucy\",\"the ring\",\"oculus\"],\n",
    "    \"horror\" : [\"oculus\",\"the ring\",\"it\",\"the ring 2\",\"evil dead\",\n",
    "                \"conjuring\",\"conjuring 2\",\"bhootnath\",\"aatma\"]\n",
    "}\n",
    "\n",
    "user = {'hulk','dabang','thor', 'lucy', 'it', 'golmaal', 'kgf', 'bala'}\n",
    "\n",
    "scores={}\n",
    "for items in dataset:\n",
    "    movie=set(dataset[items])\n",
    "    numer=user.intersection(movie)\n",
    "    denom=user.union(movie)\n",
    "    score=len(numer)/len(denom)\n",
    "    scores[items]=round(score,2)\n",
    "    \n",
    "print(scores)"
   ]
  },
  {
   "cell_type": "code",
   "execution_count": 36,
   "id": "6077018e",
   "metadata": {},
   "outputs": [
    {
     "name": "stdout",
     "output_type": "stream",
     "text": [
      "{'action': 0.29, 'comedy': 0.13, 'drama': 0.21, 'thriller': 0.13, 'horror': 0.06}\n",
      "thriller\n"
     ]
    }
   ],
   "source": [
    "dataset = {\n",
    "    \"action\" : [\"matrix\",\"batman\",\"superman\",\"dabang\",\"avengers\",\"thor\",\n",
    "                \"hulk\",\"krrish\",\"ironman\",'kgf'],\n",
    "    \"comedy\" : [\"the mask\",\"dhamaal\",\"bala\",\"housefull\",\"golmaal\",\n",
    "                \"hera pheri\",\"golmaal 2\",\"dhamaal 2\",\"hera pheri 2\"],\n",
    "    \"drama\" : [\"dabang\",\"krrish\",\"hera pheri\",\"bala\",\"kahani\",\"batla house\",\n",
    "               \"kgf\",\"zero\",\"sultan\"],\n",
    "    \"thriller\" : [\"kahani\",\"kgf\",\"batla house\",\"madras cafe\",\"uri\",\n",
    "                  \"raw\",\"lucy\",\"the ring\",\"oculus\"],\n",
    "    \"horror\" : [\"oculus\",\"the ring\",\"it\",\"the ring 2\",\"evil dead\",\n",
    "                \"conjuring\",\"conjuring 2\",\"bhootnath\",\"aatma\"]\n",
    "}\n",
    "\n",
    "user = {'hulk','dabang','thor', 'lucy', 'it', 'golmaal', 'kgf', 'bala'}\n",
    "\n",
    "scores={}\n",
    "for items in dataset:\n",
    "    movie=set(dataset[items])\n",
    "    numer=user.intersection(movie)\n",
    "    denom=user.union(movie)\n",
    "    score=len(numer)/len(denom)\n",
    "    scores[items]=round(score,2)\n",
    "    cat=max(scores)\n",
    "print(scores)\n",
    "print(cat)"
   ]
  },
  {
   "cell_type": "code",
   "execution_count": 33,
   "id": "a7ba98c4",
   "metadata": {},
   "outputs": [
    {
     "name": "stdout",
     "output_type": "stream",
     "text": [
      "{'action': 0.29, 'comedy': 0.13, 'drama': 0.21, 'thriller': 0.13, 'horror': 0.06}\n",
      "action\n"
     ]
    }
   ],
   "source": [
    "dataset = {\n",
    "    \"action\" : [\"matrix\",\"batman\",\"superman\",\"dabang\",\"avengers\",\"thor\",\n",
    "                \"hulk\",\"krrish\",\"ironman\",'kgf'],\n",
    "    \"comedy\" : [\"the mask\",\"dhamaal\",\"bala\",\"housefull\",\"golmaal\",\n",
    "                \"hera pheri\",\"golmaal 2\",\"dhamaal 2\",\"hera pheri 2\"],\n",
    "    \"drama\" : [\"dabang\",\"krrish\",\"hera pheri\",\"bala\",\"kahani\",\"batla house\",\n",
    "               \"kgf\",\"zero\",\"sultan\"],\n",
    "    \"thriller\" : [\"kahani\",\"kgf\",\"batla house\",\"madras cafe\",\"uri\",\n",
    "                  \"raw\",\"lucy\",\"the ring\",\"oculus\"],\n",
    "    \"horror\" : [\"oculus\",\"the ring\",\"it\",\"the ring 2\",\"evil dead\",\n",
    "                \"conjuring\",\"conjuring 2\",\"bhootnath\",\"aatma\"]\n",
    "}\n",
    "\n",
    "user = {'hulk','dabang','thor', 'lucy', 'it', 'golmaal', 'kgf', 'bala'}\n",
    "\n",
    "scores={}\n",
    "for items in dataset:\n",
    "    movie=set(dataset[items])\n",
    "    numer=user.intersection(movie)\n",
    "    denom=user.union(movie)\n",
    "    score=len(numer)/len(denom)\n",
    "    scores[items]=round(score,2)\n",
    "    cat=max(scores,key=scores.get)\n",
    "print(scores)\n",
    "print(cat)"
   ]
  },
  {
   "cell_type": "code",
   "execution_count": null,
   "id": "5d72e9a9",
   "metadata": {},
   "outputs": [],
   "source": []
  }
 ],
 "metadata": {
  "kernelspec": {
   "display_name": "Python 3",
   "language": "python",
   "name": "python3"
  },
  "language_info": {
   "codemirror_mode": {
    "name": "ipython",
    "version": 3
   },
   "file_extension": ".py",
   "mimetype": "text/x-python",
   "name": "python",
   "nbconvert_exporter": "python",
   "pygments_lexer": "ipython3",
   "version": "3.9.4"
  }
 },
 "nbformat": 4,
 "nbformat_minor": 5
}
