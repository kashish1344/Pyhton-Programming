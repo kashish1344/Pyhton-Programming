{
 "cells": [
  {
   "cell_type": "code",
   "execution_count": 3,
   "id": "12d50f9b",
   "metadata": {},
   "outputs": [
    {
     "name": "stdout",
     "output_type": "stream",
     "text": [
      "Enter Number upto which you want to add even numbers: 10\n",
      "Sum Of Even Numbers is  30\n"
     ]
    }
   ],
   "source": [
    "#wap to find sum of even numbers from 1 to n?\n",
    "\n",
    "n=int(input(\"Enter Number upto which you want to add even numbers: \"))\n",
    "i=2\n",
    "sum=0\n",
    "while(i<=n):\n",
    "    sum=sum+i\n",
    "    i=i+2\n",
    "print(\"Sum Of Even Numbers is \",sum)"
   ]
  },
  {
   "cell_type": "code",
   "execution_count": 8,
   "id": "f9a72635",
   "metadata": {},
   "outputs": [
    {
     "name": "stdout",
     "output_type": "stream",
     "text": [
      "How Many even Numbers You Want to Add: 3\n",
      "Sum of Even Number=  12\n"
     ]
    }
   ],
   "source": [
    "#wap to find sum of first n even numbers?\n",
    "\n",
    "n=int(input(\"How Many even Numbers You Want to Add: \"))\n",
    "i=1\n",
    "sum=0\n",
    "count=0\n",
    "while(count<n):\n",
    "    if (i%2==0):\n",
    "        sum=sum+i\n",
    "        count=count+1\n",
    "    i=i+1\n",
    "print(\"Sum of Even Number= \",sum)"
   ]
  },
  {
   "cell_type": "code",
   "execution_count": 10,
   "id": "0fc291b9",
   "metadata": {},
   "outputs": [
    {
     "name": "stdout",
     "output_type": "stream",
     "text": [
      "Enter Number To find sum of digits: 15\n",
      "Sum Of Digits= 6\n"
     ]
    }
   ],
   "source": [
    "# Wap to find sum of digits of a given Number?\n",
    "\n",
    "i=int(input(\"Enter Number To find sum of digits: \"))\n",
    "sum=0\n",
    "while(i>0):\n",
    "    sum=sum+i%10\n",
    "    i=i//10\n",
    "print(\"Sum Of Digits=\",sum)"
   ]
  },
  {
   "cell_type": "code",
   "execution_count": 11,
   "id": "01d1768f",
   "metadata": {},
   "outputs": [
    {
     "name": "stdout",
     "output_type": "stream",
     "text": [
      "Enter NUmber  to find sum of Square of a number: 32\n",
      "Sum of Square Of each Digits=  13\n"
     ]
    }
   ],
   "source": [
    "# Wap to find sum of square of digits of a given Number?\n",
    "\n",
    "i=int(input(\"Enter NUmber  to find sum of Square of a number: \"))\n",
    "sum=0\n",
    "while(i>0):\n",
    "    sum=sum+(i%10)*(i%10)\n",
    "    i=i//10\n",
    "print(\"Sum of Square Of each Digits= \",sum)\n"
   ]
  },
  {
   "cell_type": "code",
   "execution_count": 12,
   "id": "33e60820",
   "metadata": {},
   "outputs": [
    {
     "name": "stdout",
     "output_type": "stream",
     "text": [
      "Enter NUmber  to find sum of Square of a number: 23\n",
      "Sum of Square Of each Digits=  35\n"
     ]
    }
   ],
   "source": [
    "# Wap to find sum of cube of digits of a given Number?\n",
    "\n",
    "i=int(input(\"Enter NUmber  to find sum of Square of a number: \"))\n",
    "sum=0\n",
    "while(i>0):\n",
    "    sum=sum+(i%10)*(i%10)*(i%10)\n",
    "    i=i//10\n",
    "print(\"Sum of Square Of each Digits= \",sum)\n"
   ]
  },
  {
   "cell_type": "code",
   "execution_count": 22,
   "id": "b6477585",
   "metadata": {},
   "outputs": [
    {
     "name": "stdout",
     "output_type": "stream",
     "text": [
      "Enter NUmber  to find sum of Square of a number: 153\n",
      "Your Number is Armstrong\n"
     ]
    }
   ],
   "source": [
    "# Wap to check whether a given Number is Armstrong or not?\n",
    "\n",
    "i=int(input(\"Enter NUmber  to find sum of Square of a number: \"))\n",
    "orig=i\n",
    "sum=0\n",
    "while(i>0):\n",
    "    sum=sum+(i%10)*(i%10)*(i%10)\n",
    "    i=i//10\n",
    "if orig==sum:\n",
    "        print(\"Your Number is Armstrong\")\n",
    "else:\n",
    "        print(\"Your Number is Not Armstrong\")"
   ]
  },
  {
   "cell_type": "code",
   "execution_count": 24,
   "id": "599a3dac",
   "metadata": {},
   "outputs": [
    {
     "name": "stdout",
     "output_type": "stream",
     "text": [
      "Enter Number: 65\n",
      "Product of digits =  30\n"
     ]
    }
   ],
   "source": [
    "#wap a program to find product of digits of a given Number and sum too\n",
    "\n",
    "\n",
    "i=int(input(\"Enter Number: \"))\n",
    "prod=1\n",
    "while(i>0):\n",
    "    prod=prod*(i%10)\n",
    "    i=i//10\n",
    "print(\"Product of digits = \",prod)"
   ]
  },
  {
   "cell_type": "code",
   "execution_count": 26,
   "id": "92b4e66f",
   "metadata": {},
   "outputs": [
    {
     "name": "stdout",
     "output_type": "stream",
     "text": [
      "Enter Your Number: 987\n",
      "Reverse Of Given number is  789\n"
     ]
    }
   ],
   "source": [
    "#WAP to reverse a given Number\n",
    "\n",
    "i=int(input(\"Enter Your Number: \"))\n",
    "rev=0\n",
    "while(i>0):\n",
    "    rev=(rev*10)+i%10\n",
    "    i=i//10\n",
    "print(\"Reverse Of Given number is \",rev)"
   ]
  },
  {
   "cell_type": "code",
   "execution_count": 31,
   "id": "e703190f",
   "metadata": {},
   "outputs": [
    {
     "name": "stdout",
     "output_type": "stream",
     "text": [
      "Enter Your Number: 252\n",
      "ENTERED NUMBER IS PALINDROME NUMBER 252\n"
     ]
    }
   ],
   "source": [
    "#WAP to check whether a given Number is Palindrome Number or Not?\n",
    "\n",
    "i=int(input(\"Enter Your Number: \"))\n",
    "orig=i\n",
    "rev=0\n",
    "while(i>0):\n",
    "    rev=(rev*10)+i%10\n",
    "    i=i//10\n",
    "if orig==rev:\n",
    "    print(\"ENTERED NUMBER IS PALINDROME NUMBER\",rev)\n",
    "else:\n",
    "    print(\"ENTERED NUMBER IS NOT PALINDROME NUMBER\",rev)\n"
   ]
  },
  {
   "cell_type": "code",
   "execution_count": 33,
   "id": "f704b47e",
   "metadata": {},
   "outputs": [
    {
     "name": "stdout",
     "output_type": "stream",
     "text": [
      "Enter Number: 13\n",
      "Your Entered Number is Prime Number\n"
     ]
    }
   ],
   "source": [
    "# WAP to check whether a number is prime or not?\n",
    "\n",
    "n=int(input(\"Enter Number: \"))\n",
    "count=0\n",
    "i=1\n",
    "while(i<=n):\n",
    "    if(n%i==0):\n",
    "        count=count+1\n",
    "    i=i+1\n",
    "if (count==2):\n",
    "    print(\"Your Entered Number is Prime Number\")\n",
    "else:\n",
    "    print(\"Your Entered Number is Not prime Number\")\n",
    "    "
   ]
  },
  {
   "cell_type": "code",
   "execution_count": 35,
   "id": "ae24a753",
   "metadata": {},
   "outputs": [
    {
     "name": "stdout",
     "output_type": "stream",
     "text": [
      "Enter Your Number: 3\n",
      "Factorial =  6\n"
     ]
    }
   ],
   "source": [
    "# WAP to print factorial of a given Number?\n",
    "\n",
    "\n",
    "i=int(input(\"Enter Your Number: \"))\n",
    "fac=1\n",
    "while(i>0):\n",
    "    fac=fac*i\n",
    "    i=i-1\n",
    "print(\"Factorial = \",fac)"
   ]
  },
  {
   "cell_type": "code",
   "execution_count": 37,
   "id": "adadb0a4",
   "metadata": {},
   "outputs": [
    {
     "name": "stdout",
     "output_type": "stream",
     "text": [
      "Enter Your Number: 10\n",
      "0\n",
      "1\n",
      "1\n",
      "2\n",
      "3\n",
      "5\n",
      "8\n"
     ]
    }
   ],
   "source": [
    "#WAP to print fibonacci Series upto a Given NUmber?\n",
    "\n",
    "n=int(input(\"Enter Your Number: \"))\n",
    "x=0\n",
    "y=1\n",
    "z=0\n",
    "while(z<=n):\n",
    "    print(z)\n",
    "    x=y\n",
    "    y=z\n",
    "    z=x+y\n"
   ]
  },
  {
   "cell_type": "code",
   "execution_count": 5,
   "id": "116c7692",
   "metadata": {},
   "outputs": [
    {
     "name": "stdout",
     "output_type": "stream",
     "text": [
      "*\n",
      "**\n",
      "***\n",
      "****\n",
      "*****\n",
      "******\n",
      "*******\n",
      "********\n",
      "*********\n",
      "**********\n"
     ]
    }
   ],
   "source": [
    "i=1\n",
    "while i<=10:\n",
    "    j=1\n",
    "    while j<=i:\n",
    "        print('*',end='')\n",
    "        j+=1\n",
    "    print()\n",
    "    i+=1"
   ]
  },
  {
   "cell_type": "code",
   "execution_count": 8,
   "id": "aa790a65",
   "metadata": {},
   "outputs": [
    {
     "name": "stdout",
     "output_type": "stream",
     "text": [
      "*********\n",
      "********\n",
      "*******\n",
      "******\n",
      "*****\n",
      "****\n",
      "***\n",
      "**\n",
      "*\n",
      "\n"
     ]
    }
   ],
   "source": [
    "i=1\n",
    "while i<=10:\n",
    "    j=1\n",
    "    while j<=10-i:\n",
    "        print('*',end='')\n",
    "        j+=1\n",
    "    print()\n",
    "    i+=1"
   ]
  },
  {
   "cell_type": "code",
   "execution_count": 12,
   "id": "e4202349",
   "metadata": {},
   "outputs": [
    {
     "name": "stdout",
     "output_type": "stream",
     "text": [
      "    * \n",
      "   * * \n",
      "  * * * \n",
      " * * * * \n",
      "* * * * * \n"
     ]
    }
   ],
   "source": [
    "i=1\n",
    "while i<=5:\n",
    "    j=1\n",
    "    while j<=5-i:\n",
    "        print(' ',end='')\n",
    "        j+=1\n",
    "    b=1\n",
    "    while b<=i:\n",
    "        print('*',end=' ')\n",
    "        b+=1\n",
    "    print()\n",
    "    i=i+1"
   ]
  },
  {
   "cell_type": "code",
   "execution_count": null,
   "id": "ae2e3e48",
   "metadata": {},
   "outputs": [],
   "source": []
  }
 ],
 "metadata": {
  "kernelspec": {
   "display_name": "Python 3",
   "language": "python",
   "name": "python3"
  },
  "language_info": {
   "codemirror_mode": {
    "name": "ipython",
    "version": 3
   },
   "file_extension": ".py",
   "mimetype": "text/x-python",
   "name": "python",
   "nbconvert_exporter": "python",
   "pygments_lexer": "ipython3",
   "version": "3.9.4"
  }
 },
 "nbformat": 4,
 "nbformat_minor": 5
}
